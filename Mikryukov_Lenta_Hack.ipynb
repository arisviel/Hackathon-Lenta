{
  "nbformat": 4,
  "nbformat_minor": 0,
  "metadata": {
    "colab": {
      "name": "Mikryukov_Lenta_Hack.ipynb",
      "provenance": [],
      "collapsed_sections": []
    },
    "kernelspec": {
      "name": "python3",
      "display_name": "Python 3"
    },
    "accelerator": "GPU"
  },
  "cells": [
    {
      "cell_type": "markdown",
      "metadata": {
        "id": "muPzL3n9DE7c"
      },
      "source": [
        "# Pipeline\n",
        "Ход решения будет разбит на три главы. В первой главе будет рассмотрена предобработка данных и создание модели машинного обучения по поиску товаров чрезвычайной важности. Вторая глава будет посвящена созданию модели поиска качественных заменителей чрезвычайно важных товаров. Третья глава будет посвящена рабочему скрипту от входных данных до ответа.\n"
      ]
    },
    {
      "cell_type": "markdown",
      "metadata": {
        "id": "powUcjtYKXnH"
      },
      "source": [
        "# Глава первая.\n",
        "**Обработка данных.**\n",
        "\n",
        "Сформулируем определение товара чрезвычайной важности и его заменителей (будет обновление во второй главе из-за увеличения сроков дедлайна):\n",
        "\n",
        "\n",
        "> Тот товар, что принадлежит определенной иерархической цепочке (например все иерархические уровни = 0 во всех классах), при этом является самым часто покупаемым, а его ближайшего конкурента (в пределах иерархии) покупают менее чем в n раз, то такой товар считается товаром чрезвычайной важности (класс 3). Ближайший к нему товар будет считаться хорошим заменителем (класс 2). Товары не подходящие под определение, считаются не важными и имеют класс 1.\n",
        "\n",
        "Из определения можно сформировать необходимую структуру данных:\n",
        "*   Артикул\n",
        "*   4 иерархических категорий\n",
        "*   Сколько раз товар был куплен\n",
        "*   Алкоголь или нет\n",
        "*   Производитель\n",
        "*   Цена\n",
        "*   Категория товара (чрезвычайно необходимый, заменитель, прочее)\n",
        "\n",
        "Начнем обработку данных, чтобы привести их в необходимый вид:\n",
        "\n"
      ]
    },
    {
      "cell_type": "code",
      "metadata": {
        "id": "poH8OxdcwY27"
      },
      "source": [
        "import numpy as np\n",
        "import pandas as pd\n",
        "np.random.seed(42)"
      ],
      "execution_count": null,
      "outputs": []
    },
    {
      "cell_type": "code",
      "metadata": {
        "id": "fufLjqUfwePX"
      },
      "source": [
        "# Загрузим имеющиеся данные\n",
        "clients = pd.read_csv('/content/drive/My Drive/Lenta/clients.csv')\n",
        "materials = pd.read_csv('/content/drive/My Drive/Lenta/materials.csv')\n",
        "plants = pd.read_csv('/content/drive/My Drive/Lenta/plants.csv')"
      ],
      "execution_count": null,
      "outputs": []
    },
    {
      "cell_type": "code",
      "metadata": {
        "id": "WdO_DU1dwf4T"
      },
      "source": [
        "# Не смог победить колаб, и загрузить parquet в пандас, так что перезаписал в csv на локальной машине\n",
        "trans = pd.read_csv('/content/drive/My Drive/Lenta/transactions.csv')"
      ],
      "execution_count": null,
      "outputs": []
    },
    {
      "cell_type": "markdown",
      "metadata": {
        "id": "EdqZTvNwrK40"
      },
      "source": [
        "Отфильтруем транзикации - уберем не используемые столбцы, сгруппируем по артикулам, очистим от отрицательных значений, а также уберем акционные товары т.к. по признакам продаваемости они могут оказаться товаром чрезвычайной необходимости, ставшим таковым только из-за скидки."
      ]
    },
    {
      "cell_type": "code",
      "metadata": {
        "id": "WGbbcGZVrIJD"
      },
      "source": [
        "# Убираем акционные товары, и строки с отрицательными значениями\n",
        "trans = trans.loc[trans.is_promo == 0]\n",
        "trans = trans[trans.sales_sum > 0]\n",
        "trans = trans[trans.sales_count > 0]\n",
        "\n",
        "# Удалим не использующиеся столбцы\n",
        "trans.drop(['chq_id'], axis='columns', inplace=True)\n",
        "trans.drop(['plant'], axis='columns', inplace=True)\n",
        "trans.drop(['chq_date'], axis='columns', inplace=True)\n",
        "trans.drop(['chq_position'], axis='columns', inplace=True)\n",
        "trans.drop(['client_id'], axis='columns', inplace=True)\n",
        "trans.drop(['is_promo'], axis='columns', inplace=True)\n",
        "trans.drop(['Unnamed: 0'], axis='columns', inplace=True)"
      ],
      "execution_count": null,
      "outputs": []
    },
    {
      "cell_type": "code",
      "metadata": {
        "id": "JIbYibJgrIN2"
      },
      "source": [
        "# Сгруппируем таблицу по артикулам, сложим полученнные значения кол-ва покупок и суммы\n",
        "trans = trans.groupby(['material']).sum()\n",
        "trans['sales_sum'] =  trans['sales_sum'] / trans['sales_count'] # Найдем среднию стоимость товара"
      ],
      "execution_count": null,
      "outputs": []
    },
    {
      "cell_type": "code",
      "metadata": {
        "id": "o5eByjziurmz",
        "outputId": "fc4e90ab-8d9d-42a3-9a60-fa41a702c031",
        "colab": {
          "base_uri": "https://localhost:8080/",
          "height": 235
        }
      },
      "source": [
        "# Посмотрим на данные\n",
        "trans.head()"
      ],
      "execution_count": null,
      "outputs": [
        {
          "output_type": "execute_result",
          "data": {
            "text/html": [
              "<div>\n",
              "<style scoped>\n",
              "    .dataframe tbody tr th:only-of-type {\n",
              "        vertical-align: middle;\n",
              "    }\n",
              "\n",
              "    .dataframe tbody tr th {\n",
              "        vertical-align: top;\n",
              "    }\n",
              "\n",
              "    .dataframe thead th {\n",
              "        text-align: right;\n",
              "    }\n",
              "</style>\n",
              "<table border=\"1\" class=\"dataframe\">\n",
              "  <thead>\n",
              "    <tr style=\"text-align: right;\">\n",
              "      <th></th>\n",
              "      <th>sales_count</th>\n",
              "      <th>sales_sum</th>\n",
              "    </tr>\n",
              "    <tr>\n",
              "      <th>material</th>\n",
              "      <th></th>\n",
              "      <th></th>\n",
              "    </tr>\n",
              "  </thead>\n",
              "  <tbody>\n",
              "    <tr>\n",
              "      <th>000062284ffb915ba6b88a36e3cb7ba8</th>\n",
              "      <td>49.000</td>\n",
              "      <td>50.648980</td>\n",
              "    </tr>\n",
              "    <tr>\n",
              "      <th>00011c1252f877221e0e0a3ddf21858e</th>\n",
              "      <td>77.000</td>\n",
              "      <td>233.915065</td>\n",
              "    </tr>\n",
              "    <tr>\n",
              "      <th>000189cbec3b82946747db131d67805a</th>\n",
              "      <td>217.000</td>\n",
              "      <td>56.128940</td>\n",
              "    </tr>\n",
              "    <tr>\n",
              "      <th>000273bf6eb4ba9a2ec52c0b5ee564ed</th>\n",
              "      <td>299.769</td>\n",
              "      <td>410.650367</td>\n",
              "    </tr>\n",
              "    <tr>\n",
              "      <th>00033dd12618c86f7451b1e18af8bb60</th>\n",
              "      <td>10.000</td>\n",
              "      <td>349.390000</td>\n",
              "    </tr>\n",
              "  </tbody>\n",
              "</table>\n",
              "</div>"
            ],
            "text/plain": [
              "                                  sales_count   sales_sum\n",
              "material                                                 \n",
              "000062284ffb915ba6b88a36e3cb7ba8       49.000   50.648980\n",
              "00011c1252f877221e0e0a3ddf21858e       77.000  233.915065\n",
              "000189cbec3b82946747db131d67805a      217.000   56.128940\n",
              "000273bf6eb4ba9a2ec52c0b5ee564ed      299.769  410.650367\n",
              "00033dd12618c86f7451b1e18af8bb60       10.000  349.390000"
            ]
          },
          "metadata": {
            "tags": []
          },
          "execution_count": 7
        }
      ]
    },
    {
      "cell_type": "code",
      "metadata": {
        "id": "VVRc7ucQlsWA"
      },
      "source": [
        "# Теперь приведем таблицу 'materials' к нужной форме:\n",
        "materials.drop(['is_private_label'], axis='columns', inplace=True)\n",
        "materials.loc[:,'category'] = 0 # Столбец показывающий категорию товара (чрезвычайный, заменитель, обычный)"
      ],
      "execution_count": null,
      "outputs": []
    },
    {
      "cell_type": "code",
      "metadata": {
        "id": "B1YtuT7XwstD",
        "outputId": "6d10ad80-14a7-48e6-9cd4-445d00bf118f",
        "colab": {
          "base_uri": "https://localhost:8080/",
          "height": 100
        }
      },
      "source": [
        "materials[:1]"
      ],
      "execution_count": null,
      "outputs": [
        {
          "output_type": "execute_result",
          "data": {
            "text/html": [
              "<div>\n",
              "<style scoped>\n",
              "    .dataframe tbody tr th:only-of-type {\n",
              "        vertical-align: middle;\n",
              "    }\n",
              "\n",
              "    .dataframe tbody tr th {\n",
              "        vertical-align: top;\n",
              "    }\n",
              "\n",
              "    .dataframe thead th {\n",
              "        text-align: right;\n",
              "    }\n",
              "</style>\n",
              "<table border=\"1\" class=\"dataframe\">\n",
              "  <thead>\n",
              "    <tr style=\"text-align: right;\">\n",
              "      <th></th>\n",
              "      <th>material</th>\n",
              "      <th>hier_level_1</th>\n",
              "      <th>hier_level_2</th>\n",
              "      <th>hier_level_3</th>\n",
              "      <th>hier_level_4</th>\n",
              "      <th>vendor</th>\n",
              "      <th>is_alco</th>\n",
              "      <th>category</th>\n",
              "    </tr>\n",
              "  </thead>\n",
              "  <tbody>\n",
              "    <tr>\n",
              "      <th>0</th>\n",
              "      <td>35cbdf61de9e19c8b417327aaef14c88</td>\n",
              "      <td>NONFOOD</td>\n",
              "      <td>ea5d2f1c4608232e07d3aa3d998e5135</td>\n",
              "      <td>99cad265a1768cc2dd013f0e740300ae</td>\n",
              "      <td>9eed45f71360b4b1e2590637467220e5</td>\n",
              "      <td>212a38db0ddcd009f1e164cc8483485c</td>\n",
              "      <td>0</td>\n",
              "      <td>0</td>\n",
              "    </tr>\n",
              "  </tbody>\n",
              "</table>\n",
              "</div>"
            ],
            "text/plain": [
              "                           material hier_level_1  ... is_alco category\n",
              "0  35cbdf61de9e19c8b417327aaef14c88      NONFOOD  ...       0        0\n",
              "\n",
              "[1 rows x 8 columns]"
            ]
          },
          "metadata": {
            "tags": []
          },
          "execution_count": 9
        }
      ]
    },
    {
      "cell_type": "code",
      "metadata": {
        "id": "_wlLVH88xHSb"
      },
      "source": [
        "# Backup\n",
        "materials.to_csv('/content/drive/My Drive/Lenta/mat.csv')\n",
        "trans.to_csv('/content/drive/My Drive/Lenta/trans.csv')"
      ],
      "execution_count": null,
      "outputs": []
    },
    {
      "cell_type": "code",
      "metadata": {
        "id": "wzIeO5sLSIJ1",
        "outputId": "e7f22ad0-fa18-44b4-b783-57d721d258b0",
        "colab": {
          "base_uri": "https://localhost:8080/",
          "height": 255
        }
      },
      "source": [
        "# В таблице 'materials' объявим индексом - артикул товаров, чтобы можно было\n",
        "# объединить две таблицы в одну.\n",
        "materials = materials.set_index(materials['material'])\n",
        "stack_tables = pd.concat([materials, trans],axis=1,join='inner')\n",
        "# Проверим что получилось\n",
        "stack_tables.head()"
      ],
      "execution_count": null,
      "outputs": [
        {
          "output_type": "execute_result",
          "data": {
            "text/html": [
              "<div>\n",
              "<style scoped>\n",
              "    .dataframe tbody tr th:only-of-type {\n",
              "        vertical-align: middle;\n",
              "    }\n",
              "\n",
              "    .dataframe tbody tr th {\n",
              "        vertical-align: top;\n",
              "    }\n",
              "\n",
              "    .dataframe thead th {\n",
              "        text-align: right;\n",
              "    }\n",
              "</style>\n",
              "<table border=\"1\" class=\"dataframe\">\n",
              "  <thead>\n",
              "    <tr style=\"text-align: right;\">\n",
              "      <th></th>\n",
              "      <th>material</th>\n",
              "      <th>hier_level_1</th>\n",
              "      <th>hier_level_2</th>\n",
              "      <th>hier_level_3</th>\n",
              "      <th>hier_level_4</th>\n",
              "      <th>vendor</th>\n",
              "      <th>is_alco</th>\n",
              "      <th>category</th>\n",
              "      <th>sales_count</th>\n",
              "      <th>sales_sum</th>\n",
              "    </tr>\n",
              "    <tr>\n",
              "      <th>material</th>\n",
              "      <th></th>\n",
              "      <th></th>\n",
              "      <th></th>\n",
              "      <th></th>\n",
              "      <th></th>\n",
              "      <th></th>\n",
              "      <th></th>\n",
              "      <th></th>\n",
              "      <th></th>\n",
              "      <th></th>\n",
              "    </tr>\n",
              "  </thead>\n",
              "  <tbody>\n",
              "    <tr>\n",
              "      <th>35cbdf61de9e19c8b417327aaef14c88</th>\n",
              "      <td>35cbdf61de9e19c8b417327aaef14c88</td>\n",
              "      <td>NONFOOD</td>\n",
              "      <td>ea5d2f1c4608232e07d3aa3d998e5135</td>\n",
              "      <td>99cad265a1768cc2dd013f0e740300ae</td>\n",
              "      <td>9eed45f71360b4b1e2590637467220e5</td>\n",
              "      <td>212a38db0ddcd009f1e164cc8483485c</td>\n",
              "      <td>0</td>\n",
              "      <td>0</td>\n",
              "      <td>156.0</td>\n",
              "      <td>118.744936</td>\n",
              "    </tr>\n",
              "    <tr>\n",
              "      <th>f0fc5e654a81a7c4b8ba8d7c26546e14</th>\n",
              "      <td>f0fc5e654a81a7c4b8ba8d7c26546e14</td>\n",
              "      <td>NONFOOD</td>\n",
              "      <td>ea5d2f1c4608232e07d3aa3d998e5135</td>\n",
              "      <td>99cad265a1768cc2dd013f0e740300ae</td>\n",
              "      <td>8a969031832c535daf96e0c2aed8e814</td>\n",
              "      <td>9b0b6c7d55413ad3b67761b7b125b534</td>\n",
              "      <td>0</td>\n",
              "      <td>0</td>\n",
              "      <td>28.0</td>\n",
              "      <td>99.974643</td>\n",
              "    </tr>\n",
              "    <tr>\n",
              "      <th>353693e64fb5f9e2d29746d7fe6edf1e</th>\n",
              "      <td>353693e64fb5f9e2d29746d7fe6edf1e</td>\n",
              "      <td>NONFOOD</td>\n",
              "      <td>ea5d2f1c4608232e07d3aa3d998e5135</td>\n",
              "      <td>b58f7d184743106a8a66028b7a28937c</td>\n",
              "      <td>4c0dc012ebb679a18b244c53c6f59b5a</td>\n",
              "      <td>a3c8be149d718771e892619bd310b961</td>\n",
              "      <td>0</td>\n",
              "      <td>0</td>\n",
              "      <td>36.0</td>\n",
              "      <td>3.479722</td>\n",
              "    </tr>\n",
              "    <tr>\n",
              "      <th>5d9e0b4302ce95448cae72165ff4cf5b</th>\n",
              "      <td>5d9e0b4302ce95448cae72165ff4cf5b</td>\n",
              "      <td>NONFOOD</td>\n",
              "      <td>ea5d2f1c4608232e07d3aa3d998e5135</td>\n",
              "      <td>b58f7d184743106a8a66028b7a28937c</td>\n",
              "      <td>4c0dc012ebb679a18b244c53c6f59b5a</td>\n",
              "      <td>a3c8be149d718771e892619bd310b961</td>\n",
              "      <td>0</td>\n",
              "      <td>0</td>\n",
              "      <td>21.0</td>\n",
              "      <td>3.481905</td>\n",
              "    </tr>\n",
              "    <tr>\n",
              "      <th>69374dfb9642c83bd073e1a913af6609</th>\n",
              "      <td>69374dfb9642c83bd073e1a913af6609</td>\n",
              "      <td>NONFOOD</td>\n",
              "      <td>d2ddea18f00665ce8623e36bd4e3c7c5</td>\n",
              "      <td>f52db9f7c0ae7017ee41f63c2a7353bc</td>\n",
              "      <td>ba4078a37e1d6d97a5d3082b255ac3eb</td>\n",
              "      <td>09c62b77ef54b918fb18662f7f25fc78</td>\n",
              "      <td>0</td>\n",
              "      <td>0</td>\n",
              "      <td>25.0</td>\n",
              "      <td>167.461200</td>\n",
              "    </tr>\n",
              "  </tbody>\n",
              "</table>\n",
              "</div>"
            ],
            "text/plain": [
              "                                                          material  ...   sales_sum\n",
              "material                                                            ...            \n",
              "35cbdf61de9e19c8b417327aaef14c88  35cbdf61de9e19c8b417327aaef14c88  ...  118.744936\n",
              "f0fc5e654a81a7c4b8ba8d7c26546e14  f0fc5e654a81a7c4b8ba8d7c26546e14  ...   99.974643\n",
              "353693e64fb5f9e2d29746d7fe6edf1e  353693e64fb5f9e2d29746d7fe6edf1e  ...    3.479722\n",
              "5d9e0b4302ce95448cae72165ff4cf5b  5d9e0b4302ce95448cae72165ff4cf5b  ...    3.481905\n",
              "69374dfb9642c83bd073e1a913af6609  69374dfb9642c83bd073e1a913af6609  ...  167.461200\n",
              "\n",
              "[5 rows x 10 columns]"
            ]
          },
          "metadata": {
            "tags": []
          },
          "execution_count": 11
        }
      ]
    },
    {
      "cell_type": "code",
      "metadata": {
        "id": "x4C8bL_J0LM3"
      },
      "source": [
        "# Backup\n",
        "stack_tables.to_csv('/content/drive/My Drive/Lenta/backups/stack_tables.csv')"
      ],
      "execution_count": null,
      "outputs": []
    },
    {
      "cell_type": "markdown",
      "metadata": {
        "id": "kjLEeB63ErOn"
      },
      "source": [
        "Столбцы представлены в захешированном виде. Сделаем свою нумерацию классов иерархии и производителей."
      ]
    },
    {
      "cell_type": "code",
      "metadata": {
        "id": "Cbln1ybRDpie"
      },
      "source": [
        "from sklearn import preprocessing\n",
        "le = preprocessing.LabelEncoder()"
      ],
      "execution_count": null,
      "outputs": []
    },
    {
      "cell_type": "code",
      "metadata": {
        "id": "EWnzU4CTDqPu"
      },
      "source": [
        "le.fit(stack_tables.hier_level_1)\n",
        "stack_tables['hier_level_1'] = le.transform(stack_tables.hier_level_1)\n",
        "\n",
        "le.fit(stack_tables.hier_level_2)\n",
        "stack_tables['hier_level_2'] = le.transform(stack_tables.hier_level_2)\n",
        "\n",
        "le.fit(stack_tables.hier_level_3)\n",
        "stack_tables['hier_level_3'] = le.transform(stack_tables.hier_level_3)\n",
        "\n",
        "le.fit(stack_tables.hier_level_4)\n",
        "stack_tables['hier_level_4'] = le.transform(stack_tables.hier_level_4)\n",
        "\n",
        "le.fit(stack_tables.vendor)\n",
        "stack_tables['vendor'] = le.transform(stack_tables.vendor)"
      ],
      "execution_count": null,
      "outputs": []
    },
    {
      "cell_type": "code",
      "metadata": {
        "id": "7FfDcOkQGHLT",
        "outputId": "1e4bf271-bd85-4c95-b0b8-8597654adbfd",
        "colab": {
          "base_uri": "https://localhost:8080/",
          "height": 255
        }
      },
      "source": [
        "# Посмотрим что получилось.\n",
        "stack_tables.head()"
      ],
      "execution_count": null,
      "outputs": [
        {
          "output_type": "execute_result",
          "data": {
            "text/html": [
              "<div>\n",
              "<style scoped>\n",
              "    .dataframe tbody tr th:only-of-type {\n",
              "        vertical-align: middle;\n",
              "    }\n",
              "\n",
              "    .dataframe tbody tr th {\n",
              "        vertical-align: top;\n",
              "    }\n",
              "\n",
              "    .dataframe thead th {\n",
              "        text-align: right;\n",
              "    }\n",
              "</style>\n",
              "<table border=\"1\" class=\"dataframe\">\n",
              "  <thead>\n",
              "    <tr style=\"text-align: right;\">\n",
              "      <th></th>\n",
              "      <th>material</th>\n",
              "      <th>hier_level_1</th>\n",
              "      <th>hier_level_2</th>\n",
              "      <th>hier_level_3</th>\n",
              "      <th>hier_level_4</th>\n",
              "      <th>vendor</th>\n",
              "      <th>is_alco</th>\n",
              "      <th>category</th>\n",
              "      <th>sales_count</th>\n",
              "      <th>sales_sum</th>\n",
              "    </tr>\n",
              "    <tr>\n",
              "      <th>material</th>\n",
              "      <th></th>\n",
              "      <th></th>\n",
              "      <th></th>\n",
              "      <th></th>\n",
              "      <th></th>\n",
              "      <th></th>\n",
              "      <th></th>\n",
              "      <th></th>\n",
              "      <th></th>\n",
              "      <th></th>\n",
              "    </tr>\n",
              "  </thead>\n",
              "  <tbody>\n",
              "    <tr>\n",
              "      <th>35cbdf61de9e19c8b417327aaef14c88</th>\n",
              "      <td>35cbdf61de9e19c8b417327aaef14c88</td>\n",
              "      <td>1</td>\n",
              "      <td>56</td>\n",
              "      <td>250</td>\n",
              "      <td>1197</td>\n",
              "      <td>536</td>\n",
              "      <td>0</td>\n",
              "      <td>0</td>\n",
              "      <td>156.0</td>\n",
              "      <td>118.744936</td>\n",
              "    </tr>\n",
              "    <tr>\n",
              "      <th>f0fc5e654a81a7c4b8ba8d7c26546e14</th>\n",
              "      <td>f0fc5e654a81a7c4b8ba8d7c26546e14</td>\n",
              "      <td>1</td>\n",
              "      <td>56</td>\n",
              "      <td>250</td>\n",
              "      <td>1052</td>\n",
              "      <td>2412</td>\n",
              "      <td>0</td>\n",
              "      <td>0</td>\n",
              "      <td>28.0</td>\n",
              "      <td>99.974643</td>\n",
              "    </tr>\n",
              "    <tr>\n",
              "      <th>353693e64fb5f9e2d29746d7fe6edf1e</th>\n",
              "      <td>353693e64fb5f9e2d29746d7fe6edf1e</td>\n",
              "      <td>1</td>\n",
              "      <td>56</td>\n",
              "      <td>291</td>\n",
              "      <td>568</td>\n",
              "      <td>2564</td>\n",
              "      <td>0</td>\n",
              "      <td>0</td>\n",
              "      <td>36.0</td>\n",
              "      <td>3.479722</td>\n",
              "    </tr>\n",
              "    <tr>\n",
              "      <th>5d9e0b4302ce95448cae72165ff4cf5b</th>\n",
              "      <td>5d9e0b4302ce95448cae72165ff4cf5b</td>\n",
              "      <td>1</td>\n",
              "      <td>56</td>\n",
              "      <td>291</td>\n",
              "      <td>568</td>\n",
              "      <td>2564</td>\n",
              "      <td>0</td>\n",
              "      <td>0</td>\n",
              "      <td>21.0</td>\n",
              "      <td>3.481905</td>\n",
              "    </tr>\n",
              "    <tr>\n",
              "      <th>69374dfb9642c83bd073e1a913af6609</th>\n",
              "      <td>69374dfb9642c83bd073e1a913af6609</td>\n",
              "      <td>1</td>\n",
              "      <td>50</td>\n",
              "      <td>380</td>\n",
              "      <td>1438</td>\n",
              "      <td>154</td>\n",
              "      <td>0</td>\n",
              "      <td>0</td>\n",
              "      <td>25.0</td>\n",
              "      <td>167.461200</td>\n",
              "    </tr>\n",
              "  </tbody>\n",
              "</table>\n",
              "</div>"
            ],
            "text/plain": [
              "                                                          material  ...   sales_sum\n",
              "material                                                            ...            \n",
              "35cbdf61de9e19c8b417327aaef14c88  35cbdf61de9e19c8b417327aaef14c88  ...  118.744936\n",
              "f0fc5e654a81a7c4b8ba8d7c26546e14  f0fc5e654a81a7c4b8ba8d7c26546e14  ...   99.974643\n",
              "353693e64fb5f9e2d29746d7fe6edf1e  353693e64fb5f9e2d29746d7fe6edf1e  ...    3.479722\n",
              "5d9e0b4302ce95448cae72165ff4cf5b  5d9e0b4302ce95448cae72165ff4cf5b  ...    3.481905\n",
              "69374dfb9642c83bd073e1a913af6609  69374dfb9642c83bd073e1a913af6609  ...  167.461200\n",
              "\n",
              "[5 rows x 10 columns]"
            ]
          },
          "metadata": {
            "tags": []
          },
          "execution_count": 15
        }
      ]
    },
    {
      "cell_type": "code",
      "metadata": {
        "id": "bBMG8no9FwDv"
      },
      "source": [
        "#backup\n",
        "stack_tables.to_csv('/content/drive/My Drive/Lenta/backups/stack_tables_coded.csv')"
      ],
      "execution_count": null,
      "outputs": []
    },
    {
      "cell_type": "code",
      "metadata": {
        "id": "X3XkvcJCFsan",
        "outputId": "20c7f82a-2705-45c6-ced0-05fdc7dae9e4",
        "colab": {
          "base_uri": "https://localhost:8080/"
        }
      },
      "source": [
        "# Посмотрим на колличество иерархических классов.\n",
        "print(len(pd.unique(stack_tables['hier_level_2'])), len(pd.unique(stack_tables['hier_level_3'])), len(pd.unique(stack_tables['hier_level_4'])))"
      ],
      "execution_count": null,
      "outputs": [
        {
          "output_type": "stream",
          "text": [
            "60 391 1966\n"
          ],
          "name": "stdout"
        }
      ]
    },
    {
      "cell_type": "code",
      "metadata": {
        "id": "ZfsxGdIIcrol"
      },
      "source": [
        "# Load\n",
        "stack_tables = pd.read_csv('/content/drive/My Drive/Lenta/backups/stack_tables_coded.csv')\n",
        "stack_tables = stack_tables.set_index(stack_tables['material'])"
      ],
      "execution_count": null,
      "outputs": []
    },
    {
      "cell_type": "code",
      "metadata": {
        "id": "rUcb5T7zc0w7",
        "outputId": "8b77348b-49b8-45d5-d0e4-19f4f809e88c",
        "colab": {
          "base_uri": "https://localhost:8080/",
          "height": 470
        }
      },
      "source": [
        "stack_tables"
      ],
      "execution_count": null,
      "outputs": [
        {
          "output_type": "execute_result",
          "data": {
            "text/html": [
              "<div>\n",
              "<style scoped>\n",
              "    .dataframe tbody tr th:only-of-type {\n",
              "        vertical-align: middle;\n",
              "    }\n",
              "\n",
              "    .dataframe tbody tr th {\n",
              "        vertical-align: top;\n",
              "    }\n",
              "\n",
              "    .dataframe thead th {\n",
              "        text-align: right;\n",
              "    }\n",
              "</style>\n",
              "<table border=\"1\" class=\"dataframe\">\n",
              "  <thead>\n",
              "    <tr style=\"text-align: right;\">\n",
              "      <th></th>\n",
              "      <th>material</th>\n",
              "      <th>material.1</th>\n",
              "      <th>hier_level_1</th>\n",
              "      <th>hier_level_2</th>\n",
              "      <th>hier_level_3</th>\n",
              "      <th>hier_level_4</th>\n",
              "      <th>vendor</th>\n",
              "      <th>is_alco</th>\n",
              "      <th>category</th>\n",
              "      <th>sales_count</th>\n",
              "      <th>sales_sum</th>\n",
              "    </tr>\n",
              "    <tr>\n",
              "      <th>material</th>\n",
              "      <th></th>\n",
              "      <th></th>\n",
              "      <th></th>\n",
              "      <th></th>\n",
              "      <th></th>\n",
              "      <th></th>\n",
              "      <th></th>\n",
              "      <th></th>\n",
              "      <th></th>\n",
              "      <th></th>\n",
              "      <th></th>\n",
              "    </tr>\n",
              "  </thead>\n",
              "  <tbody>\n",
              "    <tr>\n",
              "      <th>35cbdf61de9e19c8b417327aaef14c88</th>\n",
              "      <td>35cbdf61de9e19c8b417327aaef14c88</td>\n",
              "      <td>35cbdf61de9e19c8b417327aaef14c88</td>\n",
              "      <td>1</td>\n",
              "      <td>56</td>\n",
              "      <td>250</td>\n",
              "      <td>1197</td>\n",
              "      <td>536</td>\n",
              "      <td>0</td>\n",
              "      <td>0</td>\n",
              "      <td>156.0</td>\n",
              "      <td>118.744936</td>\n",
              "    </tr>\n",
              "    <tr>\n",
              "      <th>f0fc5e654a81a7c4b8ba8d7c26546e14</th>\n",
              "      <td>f0fc5e654a81a7c4b8ba8d7c26546e14</td>\n",
              "      <td>f0fc5e654a81a7c4b8ba8d7c26546e14</td>\n",
              "      <td>1</td>\n",
              "      <td>56</td>\n",
              "      <td>250</td>\n",
              "      <td>1052</td>\n",
              "      <td>2412</td>\n",
              "      <td>0</td>\n",
              "      <td>0</td>\n",
              "      <td>28.0</td>\n",
              "      <td>99.974643</td>\n",
              "    </tr>\n",
              "    <tr>\n",
              "      <th>353693e64fb5f9e2d29746d7fe6edf1e</th>\n",
              "      <td>353693e64fb5f9e2d29746d7fe6edf1e</td>\n",
              "      <td>353693e64fb5f9e2d29746d7fe6edf1e</td>\n",
              "      <td>1</td>\n",
              "      <td>56</td>\n",
              "      <td>291</td>\n",
              "      <td>568</td>\n",
              "      <td>2564</td>\n",
              "      <td>0</td>\n",
              "      <td>0</td>\n",
              "      <td>36.0</td>\n",
              "      <td>3.479722</td>\n",
              "    </tr>\n",
              "    <tr>\n",
              "      <th>5d9e0b4302ce95448cae72165ff4cf5b</th>\n",
              "      <td>5d9e0b4302ce95448cae72165ff4cf5b</td>\n",
              "      <td>5d9e0b4302ce95448cae72165ff4cf5b</td>\n",
              "      <td>1</td>\n",
              "      <td>56</td>\n",
              "      <td>291</td>\n",
              "      <td>568</td>\n",
              "      <td>2564</td>\n",
              "      <td>0</td>\n",
              "      <td>0</td>\n",
              "      <td>21.0</td>\n",
              "      <td>3.481905</td>\n",
              "    </tr>\n",
              "    <tr>\n",
              "      <th>69374dfb9642c83bd073e1a913af6609</th>\n",
              "      <td>69374dfb9642c83bd073e1a913af6609</td>\n",
              "      <td>69374dfb9642c83bd073e1a913af6609</td>\n",
              "      <td>1</td>\n",
              "      <td>50</td>\n",
              "      <td>380</td>\n",
              "      <td>1438</td>\n",
              "      <td>154</td>\n",
              "      <td>0</td>\n",
              "      <td>0</td>\n",
              "      <td>25.0</td>\n",
              "      <td>167.461200</td>\n",
              "    </tr>\n",
              "    <tr>\n",
              "      <th>...</th>\n",
              "      <td>...</td>\n",
              "      <td>...</td>\n",
              "      <td>...</td>\n",
              "      <td>...</td>\n",
              "      <td>...</td>\n",
              "      <td>...</td>\n",
              "      <td>...</td>\n",
              "      <td>...</td>\n",
              "      <td>...</td>\n",
              "      <td>...</td>\n",
              "      <td>...</td>\n",
              "    </tr>\n",
              "    <tr>\n",
              "      <th>0ddd164eb2c9365fdd0819ff3e69b7d0</th>\n",
              "      <td>0ddd164eb2c9365fdd0819ff3e69b7d0</td>\n",
              "      <td>0ddd164eb2c9365fdd0819ff3e69b7d0</td>\n",
              "      <td>0</td>\n",
              "      <td>37</td>\n",
              "      <td>198</td>\n",
              "      <td>981</td>\n",
              "      <td>3983</td>\n",
              "      <td>0</td>\n",
              "      <td>0</td>\n",
              "      <td>1.0</td>\n",
              "      <td>265.490000</td>\n",
              "    </tr>\n",
              "    <tr>\n",
              "      <th>e218c4c3676927e53b95a12ffe9e721a</th>\n",
              "      <td>e218c4c3676927e53b95a12ffe9e721a</td>\n",
              "      <td>e218c4c3676927e53b95a12ffe9e721a</td>\n",
              "      <td>0</td>\n",
              "      <td>0</td>\n",
              "      <td>348</td>\n",
              "      <td>1210</td>\n",
              "      <td>3554</td>\n",
              "      <td>1</td>\n",
              "      <td>0</td>\n",
              "      <td>7.0</td>\n",
              "      <td>469.990000</td>\n",
              "    </tr>\n",
              "    <tr>\n",
              "      <th>9a5e2e34d8406616f5981868b4576444</th>\n",
              "      <td>9a5e2e34d8406616f5981868b4576444</td>\n",
              "      <td>9a5e2e34d8406616f5981868b4576444</td>\n",
              "      <td>1</td>\n",
              "      <td>59</td>\n",
              "      <td>218</td>\n",
              "      <td>1755</td>\n",
              "      <td>1312</td>\n",
              "      <td>0</td>\n",
              "      <td>0</td>\n",
              "      <td>30.0</td>\n",
              "      <td>398.385000</td>\n",
              "    </tr>\n",
              "    <tr>\n",
              "      <th>d208910eb82fa1f57684f793f93521a4</th>\n",
              "      <td>d208910eb82fa1f57684f793f93521a4</td>\n",
              "      <td>d208910eb82fa1f57684f793f93521a4</td>\n",
              "      <td>1</td>\n",
              "      <td>56</td>\n",
              "      <td>227</td>\n",
              "      <td>1824</td>\n",
              "      <td>1965</td>\n",
              "      <td>0</td>\n",
              "      <td>0</td>\n",
              "      <td>72.0</td>\n",
              "      <td>63.076667</td>\n",
              "    </tr>\n",
              "    <tr>\n",
              "      <th>ac6bf06bbda21e48809e734c1f6fa010</th>\n",
              "      <td>ac6bf06bbda21e48809e734c1f6fa010</td>\n",
              "      <td>ac6bf06bbda21e48809e734c1f6fa010</td>\n",
              "      <td>1</td>\n",
              "      <td>56</td>\n",
              "      <td>227</td>\n",
              "      <td>758</td>\n",
              "      <td>1965</td>\n",
              "      <td>0</td>\n",
              "      <td>0</td>\n",
              "      <td>5.0</td>\n",
              "      <td>45.194000</td>\n",
              "    </tr>\n",
              "  </tbody>\n",
              "</table>\n",
              "<p>86451 rows × 11 columns</p>\n",
              "</div>"
            ],
            "text/plain": [
              "                                                          material  ...   sales_sum\n",
              "material                                                            ...            \n",
              "35cbdf61de9e19c8b417327aaef14c88  35cbdf61de9e19c8b417327aaef14c88  ...  118.744936\n",
              "f0fc5e654a81a7c4b8ba8d7c26546e14  f0fc5e654a81a7c4b8ba8d7c26546e14  ...   99.974643\n",
              "353693e64fb5f9e2d29746d7fe6edf1e  353693e64fb5f9e2d29746d7fe6edf1e  ...    3.479722\n",
              "5d9e0b4302ce95448cae72165ff4cf5b  5d9e0b4302ce95448cae72165ff4cf5b  ...    3.481905\n",
              "69374dfb9642c83bd073e1a913af6609  69374dfb9642c83bd073e1a913af6609  ...  167.461200\n",
              "...                                                            ...  ...         ...\n",
              "0ddd164eb2c9365fdd0819ff3e69b7d0  0ddd164eb2c9365fdd0819ff3e69b7d0  ...  265.490000\n",
              "e218c4c3676927e53b95a12ffe9e721a  e218c4c3676927e53b95a12ffe9e721a  ...  469.990000\n",
              "9a5e2e34d8406616f5981868b4576444  9a5e2e34d8406616f5981868b4576444  ...  398.385000\n",
              "d208910eb82fa1f57684f793f93521a4  d208910eb82fa1f57684f793f93521a4  ...   63.076667\n",
              "ac6bf06bbda21e48809e734c1f6fa010  ac6bf06bbda21e48809e734c1f6fa010  ...   45.194000\n",
              "\n",
              "[86451 rows x 11 columns]"
            ]
          },
          "metadata": {
            "tags": []
          },
          "execution_count": 43
        }
      ]
    },
    {
      "cell_type": "markdown",
      "metadata": {
        "id": "kXASZdFWMb1s"
      },
      "source": [
        "Для определения класса товара, необходимо смотреть на эквивалентные товары в данном классе. Сделаем небольшой код который будет находить классы товаров:"
      ]
    },
    {
      "cell_type": "code",
      "metadata": {
        "id": "BhJ3p0hvFt4V",
        "outputId": "e77a28ba-1537-41f5-fbcd-42e2e303e5f2",
        "colab": {
          "base_uri": "https://localhost:8080/"
        }
      },
      "source": [
        "%%time\n",
        "# 391 - колличество категорий в 3 иерархической ступени.\n",
        "for i in range(391):\n",
        "    x = len(stack_tables[(stack_tables.hier_level_1 == 0) & (stack_tables.hier_level_2 == 0) & (stack_tables.hier_level_3 == i)])\n",
        "    if x > 0:\n",
        "      for z in range(1966):\n",
        "        c = len(stack_tables[(stack_tables.hier_level_1 == 0) & (stack_tables.hier_level_2 == 0) & (stack_tables.hier_level_3 == i) & (stack_tables.hier_level_4 == z)])\n",
        "        if c > 0:\n",
        "          print(' 3 иерархический класс товара:', i, '\\n', '4 иерархический класс товара:', z)\n",
        "          break\n",
        "      if c > 0:\n",
        "        break"
      ],
      "execution_count": null,
      "outputs": [
        {
          "output_type": "stream",
          "text": [
            " 3 иерархический класс товара: 54 \n",
            " 4 иерархический класс товара: 440\n",
            "CPU times: user 1.2 s, sys: 93 ms, total: 1.3 s\n",
            "Wall time: 1.31 s\n"
          ],
          "name": "stdout"
        }
      ]
    },
    {
      "cell_type": "markdown",
      "metadata": {
        "id": "YEaqalUuO-4P"
      },
      "source": [
        "Выполнение такого поиска товаров с 2-мя вложеными циклами занимает приличное время, попробуем ускорить процесс.\n",
        "\n",
        "Для начала отбросим 4ый признак."
      ]
    },
    {
      "cell_type": "code",
      "metadata": {
        "id": "SNEs-UVGPXKq",
        "outputId": "6786bca0-4525-4bdd-953c-88e5ed9b9316",
        "colab": {
          "base_uri": "https://localhost:8080/"
        }
      },
      "source": [
        "%%time\n",
        "# 391 - колличество категорий в 3 иерархической ступени.\n",
        "for i in range(391):\n",
        "    x = len(stack_tables[(stack_tables.hier_level_1 == 0) & (stack_tables.hier_level_2 == 0) & (stack_tables.hier_level_3 == i)])\n",
        "    if x > 0:\n",
        "          print(i)\n",
        "        "
      ],
      "execution_count": null,
      "outputs": [
        {
          "output_type": "stream",
          "text": [
            "54\n",
            "79\n",
            "80\n",
            "205\n",
            "210\n",
            "348\n",
            "CPU times: user 783 ms, sys: 43.4 ms, total: 826 ms\n",
            "Wall time: 849 ms\n"
          ],
          "name": "stdout"
        }
      ]
    },
    {
      "cell_type": "markdown",
      "metadata": {
        "id": "BfH2bA4xPfhz"
      },
      "source": [
        "Посмотрим на данные:"
      ]
    },
    {
      "cell_type": "code",
      "metadata": {
        "id": "4qIU2XDYFt6n",
        "outputId": "2345838c-29de-4da2-b2aa-86b671780462",
        "colab": {
          "base_uri": "https://localhost:8080/",
          "height": 255
        }
      },
      "source": [
        "stack_tables[(stack_tables.hier_level_1 == 0) & (stack_tables.hier_level_2 == 0) & (stack_tables.hier_level_3 == 54)].sort_values('sales_count', ascending=False)[:5]"
      ],
      "execution_count": null,
      "outputs": [
        {
          "output_type": "execute_result",
          "data": {
            "text/html": [
              "<div>\n",
              "<style scoped>\n",
              "    .dataframe tbody tr th:only-of-type {\n",
              "        vertical-align: middle;\n",
              "    }\n",
              "\n",
              "    .dataframe tbody tr th {\n",
              "        vertical-align: top;\n",
              "    }\n",
              "\n",
              "    .dataframe thead th {\n",
              "        text-align: right;\n",
              "    }\n",
              "</style>\n",
              "<table border=\"1\" class=\"dataframe\">\n",
              "  <thead>\n",
              "    <tr style=\"text-align: right;\">\n",
              "      <th></th>\n",
              "      <th>material</th>\n",
              "      <th>hier_level_1</th>\n",
              "      <th>hier_level_2</th>\n",
              "      <th>hier_level_3</th>\n",
              "      <th>hier_level_4</th>\n",
              "      <th>vendor</th>\n",
              "      <th>is_alco</th>\n",
              "      <th>category</th>\n",
              "      <th>sales_count</th>\n",
              "      <th>sales_sum</th>\n",
              "    </tr>\n",
              "    <tr>\n",
              "      <th>material</th>\n",
              "      <th></th>\n",
              "      <th></th>\n",
              "      <th></th>\n",
              "      <th></th>\n",
              "      <th></th>\n",
              "      <th></th>\n",
              "      <th></th>\n",
              "      <th></th>\n",
              "      <th></th>\n",
              "      <th></th>\n",
              "    </tr>\n",
              "  </thead>\n",
              "  <tbody>\n",
              "    <tr>\n",
              "      <th>a098532214e2f3f02da3c34d20a6cdeb</th>\n",
              "      <td>a098532214e2f3f02da3c34d20a6cdeb</td>\n",
              "      <td>0</td>\n",
              "      <td>0</td>\n",
              "      <td>54</td>\n",
              "      <td>1822</td>\n",
              "      <td>1282</td>\n",
              "      <td>1</td>\n",
              "      <td>0</td>\n",
              "      <td>428.0</td>\n",
              "      <td>185.750631</td>\n",
              "    </tr>\n",
              "    <tr>\n",
              "      <th>33477f5020f66ca9d84392159b380439</th>\n",
              "      <td>33477f5020f66ca9d84392159b380439</td>\n",
              "      <td>0</td>\n",
              "      <td>0</td>\n",
              "      <td>54</td>\n",
              "      <td>1822</td>\n",
              "      <td>3173</td>\n",
              "      <td>1</td>\n",
              "      <td>0</td>\n",
              "      <td>183.0</td>\n",
              "      <td>497.938415</td>\n",
              "    </tr>\n",
              "    <tr>\n",
              "      <th>e93141c3deef288dbf73d0df60728302</th>\n",
              "      <td>e93141c3deef288dbf73d0df60728302</td>\n",
              "      <td>0</td>\n",
              "      <td>0</td>\n",
              "      <td>54</td>\n",
              "      <td>659</td>\n",
              "      <td>1653</td>\n",
              "      <td>1</td>\n",
              "      <td>0</td>\n",
              "      <td>180.0</td>\n",
              "      <td>124.852944</td>\n",
              "    </tr>\n",
              "    <tr>\n",
              "      <th>abf05c3fa6995ac27f9b4b8f70fe8029</th>\n",
              "      <td>abf05c3fa6995ac27f9b4b8f70fe8029</td>\n",
              "      <td>0</td>\n",
              "      <td>0</td>\n",
              "      <td>54</td>\n",
              "      <td>659</td>\n",
              "      <td>3173</td>\n",
              "      <td>1</td>\n",
              "      <td>0</td>\n",
              "      <td>139.0</td>\n",
              "      <td>339.768993</td>\n",
              "    </tr>\n",
              "    <tr>\n",
              "      <th>6b03d09c3189fbaf34628aaeaa5d8cff</th>\n",
              "      <td>6b03d09c3189fbaf34628aaeaa5d8cff</td>\n",
              "      <td>0</td>\n",
              "      <td>0</td>\n",
              "      <td>54</td>\n",
              "      <td>1822</td>\n",
              "      <td>3888</td>\n",
              "      <td>1</td>\n",
              "      <td>0</td>\n",
              "      <td>122.0</td>\n",
              "      <td>149.325246</td>\n",
              "    </tr>\n",
              "  </tbody>\n",
              "</table>\n",
              "</div>"
            ],
            "text/plain": [
              "                                                          material  ...   sales_sum\n",
              "material                                                            ...            \n",
              "a098532214e2f3f02da3c34d20a6cdeb  a098532214e2f3f02da3c34d20a6cdeb  ...  185.750631\n",
              "33477f5020f66ca9d84392159b380439  33477f5020f66ca9d84392159b380439  ...  497.938415\n",
              "e93141c3deef288dbf73d0df60728302  e93141c3deef288dbf73d0df60728302  ...  124.852944\n",
              "abf05c3fa6995ac27f9b4b8f70fe8029  abf05c3fa6995ac27f9b4b8f70fe8029  ...  339.768993\n",
              "6b03d09c3189fbaf34628aaeaa5d8cff  6b03d09c3189fbaf34628aaeaa5d8cff  ...  149.325246\n",
              "\n",
              "[5 rows x 10 columns]"
            ]
          },
          "metadata": {
            "tags": []
          },
          "execution_count": 22
        }
      ]
    },
    {
      "cell_type": "markdown",
      "metadata": {
        "id": "jyAtj2NhP0cc"
      },
      "source": [
        "Первые две строчки занимает товар из одного класса, причем продажи первого выше в более чем в 2 раза от соседа, что говорит о его важности и наделяет маркировкой класса 3.\n",
        "\n",
        "Также мы видим то следующие строчки занимает товар из другой категории 4го класса, разница с его соседом составляет не существенна, однако стоит смотреть на такие данные алгоритмом.\n",
        "\n",
        "Попробуем реализовать это:"
      ]
    },
    {
      "cell_type": "code",
      "metadata": {
        "id": "rGAX9wH7vU6N"
      },
      "source": [
        "# Зададим порог, если товар покупает в threshold раз чаще чем близжайшего конкурента,\n",
        "# то такой товар чрезвычайно важный.\n",
        "threshold = 1.6"
      ],
      "execution_count": null,
      "outputs": []
    },
    {
      "cell_type": "code",
      "metadata": {
        "id": "-s8ln9NJaLxQ",
        "outputId": "646e5fa7-75c8-4ccc-89a1-346deed5be98",
        "colab": {
          "base_uri": "https://localhost:8080/"
        }
      },
      "source": [
        "%%time\n",
        "#for food\n",
        "for second in range(60):\n",
        "    x = len(stack_tables[(stack_tables.hier_level_1 == 0) & (stack_tables.hier_level_2 == second)]) # Проверка условий нахождения в иерархическом классе 2-го уровня.\n",
        "    if x > 0:\n",
        "\n",
        "      # Проверка условий нахождения в иерархическом классе 3-го уровня.\n",
        "      for third in range(391):\n",
        "        y = len(stack_tables[(stack_tables.hier_level_1 == 0) & (stack_tables.hier_level_2 == second) & (stack_tables.hier_level_3 == third)])\n",
        "        if y > 0:\n",
        "          \n",
        "          # Осортируем полученый список по количеству покупок.\n",
        "          df = stack_tables[(stack_tables.hier_level_1 == 0) & (stack_tables.hier_level_2 == second) & (stack_tables.hier_level_3 == third)].sort_values('sales_count', ascending=False)[:10]\n",
        "              \n",
        "          for fourth in pd.unique(df.hier_level_4):\n",
        "\n",
        "            # Если в данном иерархическом классе товаров больше 2х, то сравниваем колличество покупок и выделяем чрезвычайно важный и его заменитель.\n",
        "            if len(df[df.hier_level_4 == fourth]) >= 2:              \n",
        "              if (df[df.hier_level_4 == fourth].sales_count[0] / df[df.hier_level_4 == fourth].sales_count[1]) > threshold:\n",
        "\n",
        "                df2 = df[df.hier_level_4 == fourth].sort_values('sales_count', ascending=False)[:2]\n",
        "      \n",
        "                stack_tables.at[df2.index[0], 'category'] = 2  # Устанавливаем категорию чрезвычайно важного товара.\n",
        "                stack_tables.at[df2.index[1], 'category'] = 1  # И его заменителя.\n",
        "\n",
        "            # Если товар единственный в своем классе и его много берут, тоже считаем его чрезвычайно важным.\n",
        "            elif len(df[df.hier_level_4 == fourth]) == 1:\n",
        "               df2 = df[df.hier_level_4 == fourth].sort_values('sales_count', ascending=False)\n",
        "               if df2['sales_count'].item() > 150:\n",
        "                stack_tables.at[df2.index[0], 'category'] = 2"
      ],
      "execution_count": null,
      "outputs": [
        {
          "output_type": "stream",
          "text": [
            "CPU times: user 28.8 s, sys: 1.76 s, total: 30.5 s\n",
            "Wall time: 30.8 s\n"
          ],
          "name": "stdout"
        }
      ]
    },
    {
      "cell_type": "code",
      "metadata": {
        "id": "zR6ImD0qdv1s",
        "outputId": "57987e66-3654-46ef-efa7-c58e667dcd1c",
        "colab": {
          "base_uri": "https://localhost:8080/"
        }
      },
      "source": [
        "%%time\n",
        "#for not food\n",
        "for second in range(60):\n",
        "    x = len(stack_tables[(stack_tables.hier_level_1 == 1) & (stack_tables.hier_level_2 == second)]) # Проверка условий нахождения в иерархическом классе 2-го уровня.\n",
        "    if x > 0:\n",
        "\n",
        "      # Проверка условий нахождения в иерархическом классе 3-го уровня.\n",
        "      for third in range(391):\n",
        "        y = len(stack_tables[(stack_tables.hier_level_1 == 1) & (stack_tables.hier_level_2 == second) & (stack_tables.hier_level_3 == third)])\n",
        "        if y > 0:\n",
        "          \n",
        "          # Осортируем полученый список по количеству покупок.\n",
        "          df = stack_tables[(stack_tables.hier_level_1 == 1) & (stack_tables.hier_level_2 == second) & (stack_tables.hier_level_3 == third)].sort_values('sales_count', ascending=False)[:10]\n",
        "              \n",
        "          for fourth in pd.unique(df.hier_level_4):\n",
        "\n",
        "            # Если в данном иерархическом классе товаров больше 2х, то сравниваем колличество покупок и выделяем чрезвычайно важный и его заменитель.\n",
        "            if len(df[df.hier_level_4 == fourth]) >= 2:              \n",
        "              if (df[df.hier_level_4 == fourth].sales_count[0] / df[df.hier_level_4 == fourth].sales_count[1]) > threshold:\n",
        "\n",
        "                df2 = df[df.hier_level_4 == fourth].sort_values('sales_count', ascending=False)[:2]\n",
        "      \n",
        "                stack_tables.at[df2.index[0], 'category'] = 2  # Устанавливаем категорию чрезвычайно важного товара.\n",
        "                stack_tables.at[df2.index[1], 'category'] = 1  # И его заменителя.\n",
        "\n",
        "            # Если товар единственный в своем классе и его много берут, тоже считаем его чрезвычайно важным.\n",
        "            elif len(df[df.hier_level_4 == fourth]) == 1:\n",
        "               df2 = df[df.hier_level_4 == fourth].sort_values('sales_count', ascending=False)\n",
        "               if df2['sales_count'].item() > 150:\n",
        "                stack_tables.at[df2.index[0], 'category'] = 2"
      ],
      "execution_count": null,
      "outputs": [
        {
          "output_type": "stream",
          "text": [
            "CPU times: user 20.8 s, sys: 1.16 s, total: 21.9 s\n",
            "Wall time: 22 s\n"
          ],
          "name": "stdout"
        }
      ]
    },
    {
      "cell_type": "markdown",
      "metadata": {
        "id": "cbQOUFuY1v3u"
      },
      "source": [
        "Посмотрим на колличество черезвычайно важных товаров и их заменителей"
      ]
    },
    {
      "cell_type": "code",
      "metadata": {
        "id": "RYiXABZUvyU3",
        "outputId": "1bdd16bf-47c5-4e0f-a94d-f045a4f74dfb",
        "colab": {
          "base_uri": "https://localhost:8080/"
        }
      },
      "source": [
        "print(len(stack_tables[stack_tables.category == 2]), len(stack_tables[stack_tables.category == 1]), len(stack_tables[stack_tables.category == 0]))"
      ],
      "execution_count": null,
      "outputs": [
        {
          "output_type": "stream",
          "text": [
            "511 299 85641\n"
          ],
          "name": "stdout"
        }
      ]
    },
    {
      "cell_type": "code",
      "metadata": {
        "id": "BN5-bg8fngYX",
        "outputId": "a012ac5e-2ae2-49b5-db0b-9f965d29ba33",
        "colab": {
          "base_uri": "https://localhost:8080/",
          "height": 224
        }
      },
      "source": [
        "# Удалим размножившееся стлбцы и вернем привычную индексацию\n",
        "stack_tables.drop(['material'], axis='columns', inplace=True)\n",
        "stack_tables.drop(['material.1'], axis='columns', inplace=True)\n",
        "stack_tables.reset_index(level=0, inplace=True)\n",
        "# Проверим\n",
        "stack_tables.head()"
      ],
      "execution_count": null,
      "outputs": [
        {
          "output_type": "execute_result",
          "data": {
            "text/html": [
              "<div>\n",
              "<style scoped>\n",
              "    .dataframe tbody tr th:only-of-type {\n",
              "        vertical-align: middle;\n",
              "    }\n",
              "\n",
              "    .dataframe tbody tr th {\n",
              "        vertical-align: top;\n",
              "    }\n",
              "\n",
              "    .dataframe thead th {\n",
              "        text-align: right;\n",
              "    }\n",
              "</style>\n",
              "<table border=\"1\" class=\"dataframe\">\n",
              "  <thead>\n",
              "    <tr style=\"text-align: right;\">\n",
              "      <th></th>\n",
              "      <th>material</th>\n",
              "      <th>hier_level_1</th>\n",
              "      <th>hier_level_2</th>\n",
              "      <th>hier_level_3</th>\n",
              "      <th>hier_level_4</th>\n",
              "      <th>vendor</th>\n",
              "      <th>is_alco</th>\n",
              "      <th>category</th>\n",
              "      <th>sales_count</th>\n",
              "      <th>sales_sum</th>\n",
              "    </tr>\n",
              "  </thead>\n",
              "  <tbody>\n",
              "    <tr>\n",
              "      <th>0</th>\n",
              "      <td>35cbdf61de9e19c8b417327aaef14c88</td>\n",
              "      <td>1</td>\n",
              "      <td>56</td>\n",
              "      <td>250</td>\n",
              "      <td>1197</td>\n",
              "      <td>536</td>\n",
              "      <td>0</td>\n",
              "      <td>0</td>\n",
              "      <td>156.0</td>\n",
              "      <td>118.744936</td>\n",
              "    </tr>\n",
              "    <tr>\n",
              "      <th>1</th>\n",
              "      <td>f0fc5e654a81a7c4b8ba8d7c26546e14</td>\n",
              "      <td>1</td>\n",
              "      <td>56</td>\n",
              "      <td>250</td>\n",
              "      <td>1052</td>\n",
              "      <td>2412</td>\n",
              "      <td>0</td>\n",
              "      <td>0</td>\n",
              "      <td>28.0</td>\n",
              "      <td>99.974643</td>\n",
              "    </tr>\n",
              "    <tr>\n",
              "      <th>2</th>\n",
              "      <td>353693e64fb5f9e2d29746d7fe6edf1e</td>\n",
              "      <td>1</td>\n",
              "      <td>56</td>\n",
              "      <td>291</td>\n",
              "      <td>568</td>\n",
              "      <td>2564</td>\n",
              "      <td>0</td>\n",
              "      <td>0</td>\n",
              "      <td>36.0</td>\n",
              "      <td>3.479722</td>\n",
              "    </tr>\n",
              "    <tr>\n",
              "      <th>3</th>\n",
              "      <td>5d9e0b4302ce95448cae72165ff4cf5b</td>\n",
              "      <td>1</td>\n",
              "      <td>56</td>\n",
              "      <td>291</td>\n",
              "      <td>568</td>\n",
              "      <td>2564</td>\n",
              "      <td>0</td>\n",
              "      <td>0</td>\n",
              "      <td>21.0</td>\n",
              "      <td>3.481905</td>\n",
              "    </tr>\n",
              "    <tr>\n",
              "      <th>4</th>\n",
              "      <td>69374dfb9642c83bd073e1a913af6609</td>\n",
              "      <td>1</td>\n",
              "      <td>50</td>\n",
              "      <td>380</td>\n",
              "      <td>1438</td>\n",
              "      <td>154</td>\n",
              "      <td>0</td>\n",
              "      <td>0</td>\n",
              "      <td>25.0</td>\n",
              "      <td>167.461200</td>\n",
              "    </tr>\n",
              "  </tbody>\n",
              "</table>\n",
              "</div>"
            ],
            "text/plain": [
              "                           material  hier_level_1  ...  sales_count   sales_sum\n",
              "0  35cbdf61de9e19c8b417327aaef14c88             1  ...        156.0  118.744936\n",
              "1  f0fc5e654a81a7c4b8ba8d7c26546e14             1  ...         28.0   99.974643\n",
              "2  353693e64fb5f9e2d29746d7fe6edf1e             1  ...         36.0    3.479722\n",
              "3  5d9e0b4302ce95448cae72165ff4cf5b             1  ...         21.0    3.481905\n",
              "4  69374dfb9642c83bd073e1a913af6609             1  ...         25.0  167.461200\n",
              "\n",
              "[5 rows x 10 columns]"
            ]
          },
          "metadata": {
            "tags": []
          },
          "execution_count": 63
        }
      ]
    },
    {
      "cell_type": "code",
      "metadata": {
        "id": "sASdfRAangV-"
      },
      "source": [
        "# Backup\n",
        "stack_tables.to_csv('/content/drive/My Drive/Lenta/backups/final_table.csv')"
      ],
      "execution_count": null,
      "outputs": []
    },
    {
      "cell_type": "markdown",
      "metadata": {
        "id": "LRDugeHY2ND4"
      },
      "source": [
        "Колличество товаров 1 и 2 категории составляют менее 1% от всей категории товара, поэтому случайным образом удалили товары категории 0 для уравновешивания."
      ]
    },
    {
      "cell_type": "code",
      "metadata": {
        "id": "AAz0ShcA4LbK"
      },
      "source": [
        "#Удалим рандомно строки с категорией товаров 0\n",
        "learn_table = stack_tables.copy()\n",
        "to_remove = np.random.choice(learn_table[learn_table['category']==0].index,size=(len(stack_tables)-2000),replace=False)\n",
        "learn_table.drop(to_remove, inplace = True)"
      ],
      "execution_count": null,
      "outputs": []
    },
    {
      "cell_type": "markdown",
      "metadata": {
        "id": "rT_fbVEM-58W"
      },
      "source": [
        "**Создание модели**\n",
        "\n",
        "\n",
        "Создадим и обучим модель на полученных данных\n"
      ]
    },
    {
      "cell_type": "code",
      "metadata": {
        "id": "X6Ly6vzNj1MR"
      },
      "source": [
        "# Необходимые библиотеки\n",
        "import torch\n",
        "from torch import nn\n",
        "from torch import functional as F\n",
        "from sklearn import datasets\n",
        "from sklearn.model_selection import train_test_split\n",
        "from matplotlib import pyplot as plt\n",
        "from sklearn.metrics import roc_auc_score\n",
        "from keras.utils import to_categorical"
      ],
      "execution_count": 34,
      "outputs": []
    },
    {
      "cell_type": "markdown",
      "metadata": {
        "id": "gpPspbaHpjvs"
      },
      "source": [
        "Разобъем датасэт на фичи и таргеты."
      ]
    },
    {
      "cell_type": "code",
      "metadata": {
        "id": "pEuYM1RW7S2L"
      },
      "source": [
        "feature_columns = ['hier_level_1', 'hier_level_2', 'hier_level_3', 'hier_level_4', 'vendor', 'is_alco', 'sales_count', 'sales_sum']\n",
        "target_column = 'category'"
      ],
      "execution_count": 35,
      "outputs": []
    },
    {
      "cell_type": "code",
      "metadata": {
        "id": "EkFmGKjU_ssg"
      },
      "source": [
        "features = learn_table[feature_columns]\n",
        "target = learn_table[target_column]\n",
        "# Применим one-hot-encoding\n",
        "target = to_categorical(target)\n",
        "\n",
        "# Нормализуем данные\n",
        "features = (features - features.mean()) / features.std()\n",
        "\n",
        "# Разделим данные на тест и валидационные\n",
        "train_feat, valid_feat, train_labels, valid_labels = train_test_split(features, target, random_state=42)\n",
        "\n",
        "# Превратим данные в тензоры, чтобы потом было удобнее\n",
        "train_feat = torch.FloatTensor(train_feat.values)\n",
        "train_labels = torch.FloatTensor(train_labels)\n",
        "valid_feat = torch.FloatTensor(valid_feat.values)\n",
        "valid_labels = torch.FloatTensor(valid_labels)"
      ],
      "execution_count": null,
      "outputs": []
    },
    {
      "cell_type": "markdown",
      "metadata": {
        "id": "clPDkrcPsLDE"
      },
      "source": [
        "Сделаем батч генератор"
      ]
    },
    {
      "cell_type": "code",
      "metadata": {
        "id": "43cxsyNRA6pC"
      },
      "source": [
        "def batch_generator(X, y, batch_size):\n",
        "    np.random.seed(42)\n",
        "    perm = np.random.permutation(len(X)) #перемешиваем индексы\n",
        "    X = X[perm] #перезадаем Х и У соотвественно новым индексам\n",
        "    y = y[perm]\n",
        "    num_batches = len(X) // batch_size #кол-во целвых батчей\n",
        "    if num_batches * batch_size < len(X): #если дата не делится на цело, добовляем + батч\n",
        "        num_batches += 1\n",
        "    for batch_num in range(num_batches):\n",
        "        start_index = batch_num * batch_size\n",
        "        end_index = min((batch_num + 1) * batch_size, len(X)) #когда данных станых меньше необходимого батча, в батч уйдет все что осталось\n",
        "        X_batch, y_batch = X[start_index:end_index], y[start_index:end_index]\n",
        "        yield (X_batch, y_batch)"
      ],
      "execution_count": 37,
      "outputs": []
    },
    {
      "cell_type": "markdown",
      "metadata": {
        "id": "uCXqr6vEsNbM"
      },
      "source": [
        "Функция расчета точности"
      ]
    },
    {
      "cell_type": "code",
      "metadata": {
        "id": "fkEc0slpr76n"
      },
      "source": [
        "def roc_auc_compute_fn(y_preds, y_targets):\n",
        "    from sklearn.metrics import roc_auc_score\n",
        "\n",
        "    y_true = y_targets.numpy()\n",
        "    y_pred = y_preds.numpy()\n",
        "    return roc_auc_score(y_true, y_pred)"
      ],
      "execution_count": 38,
      "outputs": []
    },
    {
      "cell_type": "markdown",
      "metadata": {
        "id": "3QnHxIM-bPT5"
      },
      "source": [
        "Попробуем простую модель"
      ]
    },
    {
      "cell_type": "code",
      "metadata": {
        "id": "CFWEbIhpA-YS"
      },
      "source": [
        "torch.manual_seed(42) \n",
        "np.random.seed(42)\n",
        "model = nn.Sequential(\n",
        "    torch.nn.Linear(features.shape[1], 50),\n",
        "    torch.nn.ReLU(), \n",
        "    torch.nn.Dropout(p=0.5), \n",
        "    torch.nn.BatchNorm1d(50), \n",
        "    torch.nn.Linear(50, 100), \n",
        "    torch.nn.ReLU(),\n",
        "    torch.nn.Dropout(p=0.5),\n",
        "    torch.nn.BatchNorm1d(100), \n",
        "    torch.nn.Linear(100,3)\n",
        ")\n",
        "    \n",
        "loss_fn = torch.nn.BCEWithLogitsLoss()\n",
        "optimizer = torch.optim.Adam(model.parameters(),lr=1e-2)"
      ],
      "execution_count": null,
      "outputs": []
    },
    {
      "cell_type": "markdown",
      "metadata": {
        "id": "UyM4Kv3etkBD"
      },
      "source": [
        "Функция тренеровки такой модели"
      ]
    },
    {
      "cell_type": "code",
      "metadata": {
        "id": "oJM8If91bU2w"
      },
      "source": [
        "def train(num_epoch, sv = False):\n",
        "    train_losses = []\n",
        "    test_losses = []\n",
        "    acc_roc = []\n",
        "    best_acc = 0\n",
        "    for i in range(num_epoch):\n",
        "        for feat, labels in batch_generator(train_feat, train_labels, 500):        \n",
        "            model.train()\n",
        "            # Посчитаем предсказание и лосс\n",
        "            preds = model(feat)\n",
        "            loss = loss_fn(preds, labels)\n",
        "\n",
        "            # зануляем градиент\n",
        "            optimizer.zero_grad()\n",
        "            # backward\n",
        "            loss.backward()\n",
        "            # ОБНОВЛЯЕМ веса \n",
        "            optimizer.step()\n",
        "            # Запишем число (не тензор) в наши батчевые лоссы\n",
        "            train_losses.append(loss.item())\n",
        "            \n",
        "            # Теперь посчитаем лосс на тесте\n",
        "            model.eval()\n",
        "            preds = model(valid_feat)\n",
        "            \n",
        "            loss = loss_fn(preds, valid_labels)\n",
        "            test_losses.append(loss.item())\n",
        "            # Посчитаем точность\n",
        "            acc = roc_auc_compute_fn(preds.detach().cpu(),valid_labels.detach().cpu())\n",
        "            acc_roc.append(acc)\n",
        "            # Запомним лучшее, значение и при необходимости запомним веса\n",
        "            if best_acc < acc:\n",
        "              best_acc = acc\n",
        "              if sv:\n",
        "                torch.save(model.state_dict(), \"/content/drive/My Drive/Lenta/models/binary_model.pt\")\n",
        "            \n",
        "    return train_losses, test_losses, acc_roc, best_acc"
      ],
      "execution_count": 61,
      "outputs": []
    },
    {
      "cell_type": "markdown",
      "metadata": {
        "id": "0ZZs-YQBkDiN"
      },
      "source": [
        "Обучим модель, посмотрим на ее точность"
      ]
    },
    {
      "cell_type": "code",
      "metadata": {
        "id": "hza5wmIJbW-v",
        "outputId": "fa563881-30fe-48e1-c96e-cbe8b91d130d",
        "colab": {
          "base_uri": "https://localhost:8080/",
          "height": 282
        }
      },
      "source": [
        "train_losses, test_losses, acc_roc, best_acc  = train(100)\n",
        "plt.scatter(range(len(train_losses)), train_losses)\n",
        "plt.scatter(range(len(test_losses)), test_losses)\n",
        "plt.scatter(range(len(acc_roc)), acc_roc)"
      ],
      "execution_count": null,
      "outputs": [
        {
          "output_type": "execute_result",
          "data": {
            "text/plain": [
              "<matplotlib.collections.PathCollection at 0x7f8955c0f0f0>"
            ]
          },
          "metadata": {
            "tags": []
          },
          "execution_count": 123
        },
        {
          "output_type": "display_data",
          "data": {
            "image/png": "[encoded data removed]",
            "text/plain": [
              "<Figure size 432x288 with 1 Axes>"
            ]
          },
          "metadata": {
            "tags": [],
            "needs_background": "light"
          }
        }
      ]
    },
    {
      "cell_type": "code",
      "metadata": {
        "id": "HAvVdzuDkSFL",
        "outputId": "df89bcc7-3734-458a-b35a-2b4bd8067d72",
        "colab": {
          "base_uri": "https://localhost:8080/"
        }
      },
      "source": [
        "print('Лучшая точность:', np.round((best_acc*100), 2) , '%')"
      ],
      "execution_count": null,
      "outputs": [
        {
          "output_type": "stream",
          "text": [
            "Лучшая точность: 85.6 %\n"
          ],
          "name": "stdout"
        }
      ]
    },
    {
      "cell_type": "markdown",
      "metadata": {
        "id": "pUC7Lqv2kWi5"
      },
      "source": [
        "## Обучение модели. Часть вторая.\n",
        "\n",
        "Так как срок дедлайна сдвинули на неделю, больше не будем предсказывать товары заменители, а модель для их предсказания рассмотрем во второй главе. \n",
        "\n",
        "Для начаал создадим такую-же сеть но уже с новыми данными, точность должна повыситься т.к. класс товара заменителя должен быть сложным для предсказаний."
      ]
    },
    {
      "cell_type": "code",
      "metadata": {
        "id": "rFwPIdOpnjFs"
      },
      "source": [
        "# Загрузим модель до определения классов\n",
        "stack_tables = pd.read_csv('/content/drive/My Drive/Lenta/backups/stack_tables_coded.csv')\n",
        "stack_tables = stack_tables.set_index(stack_tables['material'])"
      ],
      "execution_count": null,
      "outputs": []
    },
    {
      "cell_type": "code",
      "metadata": {
        "id": "VGTGOE9-ni1t",
        "outputId": "18aea7b8-dcae-4b0b-976c-4ce8c2a9a67a",
        "colab": {
          "base_uri": "https://localhost:8080/"
        }
      },
      "source": [
        "# Изменим функции классификации товаров:\n",
        "%%time\n",
        "#for food\n",
        "for second in range(60):\n",
        "    x = len(stack_tables[(stack_tables.hier_level_1 == 0) & (stack_tables.hier_level_2 == second)]) # Проверка условий нахождения в иерархическом классе 2-го уровня.\n",
        "    if x > 0:\n",
        "\n",
        "      # Проверка условий нахождения в иерархическом классе 3-го уровня.\n",
        "      for third in range(391):\n",
        "        y = len(stack_tables[(stack_tables.hier_level_1 == 0) & (stack_tables.hier_level_2 == second) & (stack_tables.hier_level_3 == third)])\n",
        "        if y > 0:\n",
        "          \n",
        "          # Осортируем полученый список по количеству покупок.\n",
        "          df = stack_tables[(stack_tables.hier_level_1 == 0) & (stack_tables.hier_level_2 == second) & (stack_tables.hier_level_3 == third)].sort_values('sales_count', ascending=False)[:10]\n",
        "              \n",
        "          for fourth in pd.unique(df.hier_level_4):\n",
        "\n",
        "            # Если в данном иерархическом классе товаров больше 2х, то сравниваем колличество покупок и выделяем чрезвычайно важный и его заменитель.\n",
        "            if len(df[df.hier_level_4 == fourth]) >= 2:              \n",
        "              if (df[df.hier_level_4 == fourth].sales_count[0] / df[df.hier_level_4 == fourth].sales_count[1]) > threshold:\n",
        "\n",
        "                df2 = df[df.hier_level_4 == fourth].sort_values('sales_count', ascending=False)[:2]\n",
        "      \n",
        "                stack_tables.at[df2.index[0], 'category'] = 1  # Теперь присуждаем класс 1.\n",
        "                #stack_tables.at[df2.index[1], 'category'] = 1  # Убираем строчку.\n",
        "\n",
        "            # Если товар единственный в своем классе и его много берут, тоже считаем его чрезвычайно важным.\n",
        "            elif len(df[df.hier_level_4 == fourth]) == 1:\n",
        "               df2 = df[df.hier_level_4 == fourth].sort_values('sales_count', ascending=False)\n",
        "               if df2['sales_count'].item() > 150:\n",
        "                stack_tables.at[df2.index[0], 'category'] = 1"
      ],
      "execution_count": null,
      "outputs": [
        {
          "output_type": "stream",
          "text": [
            "CPU times: user 29.5 s, sys: 1.56 s, total: 31 s\n",
            "Wall time: 31.3 s\n"
          ],
          "name": "stdout"
        }
      ]
    },
    {
      "cell_type": "code",
      "metadata": {
        "id": "AMplSc2Hnid9",
        "outputId": "4f082e7b-8e34-40ef-e9e3-b083df414d4d",
        "colab": {
          "base_uri": "https://localhost:8080/"
        }
      },
      "source": [
        "%%time\n",
        "#for not food\n",
        "for second in range(60):\n",
        "    x = len(stack_tables[(stack_tables.hier_level_1 == 1) & (stack_tables.hier_level_2 == second)]) # Проверка условий нахождения в иерархическом классе 2-го уровня.\n",
        "    if x > 0:\n",
        "\n",
        "      # Проверка условий нахождения в иерархическом классе 3-го уровня.\n",
        "      for third in range(391):\n",
        "        y = len(stack_tables[(stack_tables.hier_level_1 == 1) & (stack_tables.hier_level_2 == second) & (stack_tables.hier_level_3 == third)])\n",
        "        if y > 0:\n",
        "          \n",
        "          # Осортируем полученый список по количеству покупок.\n",
        "          df = stack_tables[(stack_tables.hier_level_1 == 1) & (stack_tables.hier_level_2 == second) & (stack_tables.hier_level_3 == third)].sort_values('sales_count', ascending=False)[:10]\n",
        "              \n",
        "          for fourth in pd.unique(df.hier_level_4):\n",
        "\n",
        "            # Если в данном иерархическом классе товаров больше 2х, то сравниваем колличество покупок и выделяем чрезвычайно важный и его заменитель.\n",
        "            if len(df[df.hier_level_4 == fourth]) >= 2:              \n",
        "              if (df[df.hier_level_4 == fourth].sales_count[0] / df[df.hier_level_4 == fourth].sales_count[1]) > threshold:\n",
        "\n",
        "                df2 = df[df.hier_level_4 == fourth].sort_values('sales_count', ascending=False)[:2]\n",
        "      \n",
        "                stack_tables.at[df2.index[0], 'category'] = 1  # Устанавливаем категорию чрезвычайно важного товара.\n",
        "                #stack_tables.at[df2.index[1], 'category'] = 1  # И его заменителя.\n",
        "\n",
        "            # Если товар единственный в своем классе и его много берут, тоже считаем его чрезвычайно важным.\n",
        "            elif len(df[df.hier_level_4 == fourth]) == 1:\n",
        "               df2 = df[df.hier_level_4 == fourth].sort_values('sales_count', ascending=False)\n",
        "               if df2['sales_count'].item() > 150:\n",
        "                stack_tables.at[df2.index[0], 'category'] = 1"
      ],
      "execution_count": null,
      "outputs": [
        {
          "output_type": "stream",
          "text": [
            "CPU times: user 21.3 s, sys: 1.18 s, total: 22.5 s\n",
            "Wall time: 22.7 s\n"
          ],
          "name": "stdout"
        }
      ]
    },
    {
      "cell_type": "code",
      "metadata": {
        "id": "4XkfpcDNnibV",
        "outputId": "26a54de5-b6e9-481d-f978-9e0d3a50f459",
        "colab": {
          "base_uri": "https://localhost:8080/"
        }
      },
      "source": [
        "print(len(stack_tables[stack_tables.category == 1]), len(stack_tables[stack_tables.category == 0]))"
      ],
      "execution_count": null,
      "outputs": [
        {
          "output_type": "stream",
          "text": [
            "511 85940\n"
          ],
          "name": "stdout"
        }
      ]
    },
    {
      "cell_type": "code",
      "metadata": {
        "id": "t1wx_B8Eobek",
        "outputId": "a83371c7-72da-45e9-ad62-f167b02dd2b3",
        "colab": {
          "base_uri": "https://localhost:8080/",
          "height": 204
        }
      },
      "source": [
        "# Удалим размножившееся стлбцы и вернем привычную индексацию\n",
        "stack_tables.drop(['material'], axis='columns', inplace=True)\n",
        "stack_tables.drop(['material.1'], axis='columns', inplace=True)\n",
        "stack_tables.reset_index(level=0, inplace=True)\n",
        "# Проверим\n",
        "stack_tables.head()"
      ],
      "execution_count": null,
      "outputs": [
        {
          "output_type": "execute_result",
          "data": {
            "text/html": [
              "<div>\n",
              "<style scoped>\n",
              "    .dataframe tbody tr th:only-of-type {\n",
              "        vertical-align: middle;\n",
              "    }\n",
              "\n",
              "    .dataframe tbody tr th {\n",
              "        vertical-align: top;\n",
              "    }\n",
              "\n",
              "    .dataframe thead th {\n",
              "        text-align: right;\n",
              "    }\n",
              "</style>\n",
              "<table border=\"1\" class=\"dataframe\">\n",
              "  <thead>\n",
              "    <tr style=\"text-align: right;\">\n",
              "      <th></th>\n",
              "      <th>material</th>\n",
              "      <th>hier_level_1</th>\n",
              "      <th>hier_level_2</th>\n",
              "      <th>hier_level_3</th>\n",
              "      <th>hier_level_4</th>\n",
              "      <th>vendor</th>\n",
              "      <th>is_alco</th>\n",
              "      <th>category</th>\n",
              "      <th>sales_count</th>\n",
              "      <th>sales_sum</th>\n",
              "    </tr>\n",
              "  </thead>\n",
              "  <tbody>\n",
              "    <tr>\n",
              "      <th>0</th>\n",
              "      <td>35cbdf61de9e19c8b417327aaef14c88</td>\n",
              "      <td>1</td>\n",
              "      <td>56</td>\n",
              "      <td>250</td>\n",
              "      <td>1197</td>\n",
              "      <td>536</td>\n",
              "      <td>0</td>\n",
              "      <td>0</td>\n",
              "      <td>156.0</td>\n",
              "      <td>118.744936</td>\n",
              "    </tr>\n",
              "    <tr>\n",
              "      <th>1</th>\n",
              "      <td>f0fc5e654a81a7c4b8ba8d7c26546e14</td>\n",
              "      <td>1</td>\n",
              "      <td>56</td>\n",
              "      <td>250</td>\n",
              "      <td>1052</td>\n",
              "      <td>2412</td>\n",
              "      <td>0</td>\n",
              "      <td>0</td>\n",
              "      <td>28.0</td>\n",
              "      <td>99.974643</td>\n",
              "    </tr>\n",
              "    <tr>\n",
              "      <th>2</th>\n",
              "      <td>353693e64fb5f9e2d29746d7fe6edf1e</td>\n",
              "      <td>1</td>\n",
              "      <td>56</td>\n",
              "      <td>291</td>\n",
              "      <td>568</td>\n",
              "      <td>2564</td>\n",
              "      <td>0</td>\n",
              "      <td>0</td>\n",
              "      <td>36.0</td>\n",
              "      <td>3.479722</td>\n",
              "    </tr>\n",
              "    <tr>\n",
              "      <th>3</th>\n",
              "      <td>5d9e0b4302ce95448cae72165ff4cf5b</td>\n",
              "      <td>1</td>\n",
              "      <td>56</td>\n",
              "      <td>291</td>\n",
              "      <td>568</td>\n",
              "      <td>2564</td>\n",
              "      <td>0</td>\n",
              "      <td>0</td>\n",
              "      <td>21.0</td>\n",
              "      <td>3.481905</td>\n",
              "    </tr>\n",
              "    <tr>\n",
              "      <th>4</th>\n",
              "      <td>69374dfb9642c83bd073e1a913af6609</td>\n",
              "      <td>1</td>\n",
              "      <td>50</td>\n",
              "      <td>380</td>\n",
              "      <td>1438</td>\n",
              "      <td>154</td>\n",
              "      <td>0</td>\n",
              "      <td>0</td>\n",
              "      <td>25.0</td>\n",
              "      <td>167.461200</td>\n",
              "    </tr>\n",
              "  </tbody>\n",
              "</table>\n",
              "</div>"
            ],
            "text/plain": [
              "                           material  hier_level_1  ...  sales_count   sales_sum\n",
              "0  35cbdf61de9e19c8b417327aaef14c88             1  ...        156.0  118.744936\n",
              "1  f0fc5e654a81a7c4b8ba8d7c26546e14             1  ...         28.0   99.974643\n",
              "2  353693e64fb5f9e2d29746d7fe6edf1e             1  ...         36.0    3.479722\n",
              "3  5d9e0b4302ce95448cae72165ff4cf5b             1  ...         21.0    3.481905\n",
              "4  69374dfb9642c83bd073e1a913af6609             1  ...         25.0  167.461200\n",
              "\n",
              "[5 rows x 10 columns]"
            ]
          },
          "metadata": {
            "tags": []
          },
          "execution_count": 10
        }
      ]
    },
    {
      "cell_type": "code",
      "metadata": {
        "id": "zNbJSrlSobju"
      },
      "source": [
        "# Backup\n",
        "stack_tables.to_csv('/content/drive/My Drive/Lenta/backups/binar_table.csv')"
      ],
      "execution_count": null,
      "outputs": []
    },
    {
      "cell_type": "code",
      "metadata": {
        "id": "PuCozkvIpFYT"
      },
      "source": [
        "#Удалим рандомно строки с категорией товаров 0\n",
        "learn_table = stack_tables.copy()\n",
        "to_remove = np.random.choice(learn_table[learn_table['category']==0].index,size=(len(stack_tables)-2000),replace=False)\n",
        "learn_table.drop(to_remove, inplace = True)"
      ],
      "execution_count": null,
      "outputs": []
    },
    {
      "cell_type": "code",
      "metadata": {
        "id": "YMndUdxBo6sM"
      },
      "source": [
        "features = learn_table[feature_columns]\n",
        "target = learn_table[target_column]\n",
        "# Применим one-hot-encoding\n",
        "target = to_categorical(target)\n",
        "\n",
        "# Нормализуем данные\n",
        "features = (features - features.mean()) / features.std()\n",
        "\n",
        "# Разделим данные на тест и валидационные\n",
        "train_feat, valid_feat, train_labels, valid_labels = train_test_split(features, target, random_state=42)\n",
        "\n",
        "# Превратим данные в тензоры, чтобы потом было удобнее\n",
        "train_feat = torch.FloatTensor(train_feat.values)\n",
        "train_labels = torch.FloatTensor(train_labels)\n",
        "valid_feat = torch.FloatTensor(valid_feat.values)\n",
        "valid_labels = torch.FloatTensor(valid_labels)"
      ],
      "execution_count": null,
      "outputs": []
    },
    {
      "cell_type": "code",
      "metadata": {
        "id": "cxTw92Nxo60o"
      },
      "source": [
        "torch.manual_seed(42) \n",
        "np.random.seed(42)\n",
        "model = nn.Sequential(\n",
        "    torch.nn.Linear(features.shape[1], 50),\n",
        "    torch.nn.ReLU(), \n",
        "    torch.nn.Dropout(p=0.5), \n",
        "    torch.nn.BatchNorm1d(50), \n",
        "    torch.nn.Linear(50, 100), \n",
        "    torch.nn.ReLU(),\n",
        "    torch.nn.Dropout(p=0.5),\n",
        "    torch.nn.BatchNorm1d(100), \n",
        "    torch.nn.Linear(100,2)\n",
        ")\n",
        "    \n",
        "loss_fn = torch.nn.BCEWithLogitsLoss()\n",
        "optimizer = torch.optim.Adam(model.parameters(),lr=1e-2)"
      ],
      "execution_count": null,
      "outputs": []
    },
    {
      "cell_type": "code",
      "metadata": {
        "id": "OiBCPJIhpaE1",
        "outputId": "a1e895e9-314c-4a13-b8a8-89258e87896a",
        "colab": {
          "base_uri": "https://localhost:8080/",
          "height": 282
        }
      },
      "source": [
        "train_losses, test_losses, acc_roc, best_acc  = train(100)\n",
        "plt.scatter(range(len(train_losses)), train_losses)\n",
        "plt.scatter(range(len(test_losses)), test_losses)\n",
        "plt.scatter(range(len(acc_roc)), acc_roc)"
      ],
      "execution_count": null,
      "outputs": [
        {
          "output_type": "execute_result",
          "data": {
            "text/plain": [
              "<matplotlib.collections.PathCollection at 0x7f170e341e48>"
            ]
          },
          "metadata": {
            "tags": []
          },
          "execution_count": 24
        },
        {
          "output_type": "display_data",
          "data": {
            "image/png": "[encoded data removed]",
            "text/plain": [
              "<Figure size 432x288 with 1 Axes>"
            ]
          },
          "metadata": {
            "tags": [],
            "needs_background": "light"
          }
        }
      ]
    },
    {
      "cell_type": "code",
      "metadata": {
        "id": "KiK2Jx6CphPy",
        "outputId": "3e1b461f-1d43-4747-91f8-4c1c35e8e419",
        "colab": {
          "base_uri": "https://localhost:8080/"
        }
      },
      "source": [
        "print('Лучшая точность:', np.round((best_acc*100), 2) , '%')"
      ],
      "execution_count": null,
      "outputs": [
        {
          "output_type": "stream",
          "text": [
            "Лучшая точность: 92.78 %\n"
          ],
          "name": "stdout"
        }
      ]
    },
    {
      "cell_type": "markdown",
      "metadata": {
        "id": "__aI4LTmpl9Z"
      },
      "source": [
        "Точность модели ожидаемо возросла. Теперь займемся решением задач оптимизации. Сначала определим лучшее соотношение классов для обучающей выборки, и попробуем скопировать классы чрезвычайно важных товаров попутно увеличивая колличество товаров 0-го класса. Для получения справедливой оценки точности, валидационную часть оставим в соотношении классов 50 на 50, что бы скор не сглаживался на фоне доминирования 0-го класса над первым."
      ]
    },
    {
      "cell_type": "code",
      "metadata": {
        "id": "HY3rjPBLrKp2"
      },
      "source": [
        "# Сразу сделае нормализацию данных\n",
        "np.random.seed(42)\n",
        "binary_data = pd.read_csv('/content/drive/My Drive/Lenta/backups/binar_table.csv')\n",
        "binary_data[feature_columns] = (binary_data[feature_columns]- binary_data[feature_columns].mean()) / binary_data[feature_columns].std()"
      ],
      "execution_count": null,
      "outputs": []
    },
    {
      "cell_type": "code",
      "metadata": {
        "id": "FJCyNV7RqkEg"
      },
      "source": [
        "\n",
        "from sklearn.utils import shuffle\n",
        "# Заберем 30% данных от первого класса для валидации, в случайном порядке.\n",
        "valid_cat1 = binary_data.copy()\n",
        "valid_cat1 = valid_cat1[valid_cat1.category == 1]\n",
        "valid_cat1 = shuffle(valid_cat1)\n",
        "valid_cat1 = valid_cat1[:170] # 30% от категории 1"
      ],
      "execution_count": null,
      "outputs": []
    },
    {
      "cell_type": "code",
      "metadata": {
        "id": "fptEJE4EtBjE"
      },
      "source": [
        "# и равнозначное колличество товаров 0-й категории\n",
        "valid_cat2 = binary_data.copy()\n",
        "valid_cat2 = valid_cat2[valid_cat2.category == 0]\n",
        "valid_cat2 = shuffle(valid_cat2)\n",
        "valid_cat2 = valid_cat2[:200] "
      ],
      "execution_count": null,
      "outputs": []
    },
    {
      "cell_type": "code",
      "metadata": {
        "id": "8TPtF0uJtbbc"
      },
      "source": [
        "valid = pd.concat([valid_cat1, valid_cat2])"
      ],
      "execution_count": null,
      "outputs": []
    },
    {
      "cell_type": "code",
      "metadata": {
        "id": "NJZ52FLAtblj"
      },
      "source": [
        "valid = shuffle(valid)\n"
      ],
      "execution_count": null,
      "outputs": []
    },
    {
      "cell_type": "code",
      "metadata": {
        "id": "ZKcuw_vZqVuE"
      },
      "source": [
        "valid.to_csv('/content/drive/My Drive/Lenta/backups/valid.csv')"
      ],
      "execution_count": null,
      "outputs": []
    },
    {
      "cell_type": "markdown",
      "metadata": {
        "id": "2PZTKuNFvq9b"
      },
      "source": [
        "Удалим валидационную часть из основной выборки"
      ]
    },
    {
      "cell_type": "code",
      "metadata": {
        "id": "zbFo3Ofbr4cB"
      },
      "source": [
        "binary_data.drop(valid.index, inplace=True)"
      ],
      "execution_count": null,
      "outputs": []
    },
    {
      "cell_type": "code",
      "metadata": {
        "id": "A52k4UHSwMLN"
      },
      "source": [
        "binary_data.reset_index(level=0, inplace=True)\n",
        "valid.reset_index(level=0, inplace=True)"
      ],
      "execution_count": null,
      "outputs": []
    },
    {
      "cell_type": "code",
      "metadata": {
        "id": "zaWmTT6Rje6T"
      },
      "source": [
        "#Удалим рандомно строки с категорией товаров 0\n",
        "#Сделаем так несколько раз\n",
        "train1 = binary_data.copy()\n",
        "to_remove = np.random.choice(train1[train1['category']==0].index,size=(len(binary_data)-20000),replace=False)\n",
        "train1.drop(to_remove, inplace = True)\n",
        "\n",
        "train2 = binary_data.copy()\n",
        "to_remove = np.random.choice(train2[train2['category']==0].index,size=(len(binary_data)-20000),replace=False)\n",
        "train2.drop(to_remove, inplace = True)\n",
        "\n",
        "train3 = binary_data.copy()\n",
        "to_remove = np.random.choice(train3[train3['category']==0].index,size=(len(binary_data)-20000),replace=False)\n",
        "train3.drop(to_remove, inplace = True)\n",
        "\n",
        "train4 = binary_data.copy()\n",
        "to_remove = np.random.choice(train4[train4['category']==0].index,size=(len(binary_data)-20000),replace=False)\n",
        "train4.drop(to_remove, inplace = True)\n",
        "\n",
        "train5 = binary_data.copy()\n",
        "to_remove = np.random.choice(train5[train5['category']==0].index,size=(len(binary_data)-20000),replace=False)\n",
        "train5.drop(to_remove, inplace = True)"
      ],
      "execution_count": null,
      "outputs": []
    },
    {
      "cell_type": "code",
      "metadata": {
        "id": "wprDtDoXje4G"
      },
      "source": [
        "train_data = pd.concat([train1, train2])\n",
        "train_data = pd.concat([train_data, train3])\n",
        "train_data = pd.concat([train_data, train4])\n",
        "train_data = pd.concat([train_data, train5])"
      ],
      "execution_count": null,
      "outputs": []
    },
    {
      "cell_type": "code",
      "metadata": {
        "id": "aLc5ZRkU5R5y"
      },
      "source": [
        "train_data = train2"
      ],
      "execution_count": null,
      "outputs": []
    },
    {
      "cell_type": "code",
      "metadata": {
        "id": "SH9rmieipX7p"
      },
      "source": [
        "# Backup\n",
        "train_data.to_csv('/content/drive/My Drive/Lenta/backups/train.csv')"
      ],
      "execution_count": null,
      "outputs": []
    },
    {
      "cell_type": "markdown",
      "metadata": {
        "id": "fGJArUTvm7cW"
      },
      "source": [
        "Были опробованы разные сочетания колличественного соотношение классов, и количество повторяющихся блоков. Лучший показатель который удалось достичь был получен с одним блоком данных и соотношением 1 к 40\n",
        "\n"
      ]
    },
    {
      "cell_type": "code",
      "metadata": {
        "id": "JuTPM60LnvHf"
      },
      "source": [
        "# Load\n",
        "valid = pd.read_csv('/content/drive/My Drive/Lenta/backups/valid.csv')\n",
        "train_data = pd.read_csv('/content/drive/My Drive/Lenta/backups/train.csv')"
      ],
      "execution_count": 42,
      "outputs": []
    },
    {
      "cell_type": "code",
      "metadata": {
        "id": "8qf4UGRcZGi3"
      },
      "source": [
        "device = \"cuda\" if torch.cuda.is_available() else \"cpu\""
      ],
      "execution_count": 44,
      "outputs": []
    },
    {
      "cell_type": "code",
      "metadata": {
        "id": "lH6mje68u9Az"
      },
      "source": [
        "# Определяем данные\n",
        "train_feat = train_data[feature_columns]\n",
        "train_labels = train_data[target_column]\n",
        "\n",
        "valid_feat = valid[feature_columns]\n",
        "valid_labels = valid[target_column]\n",
        "\n",
        "# One-hot\n",
        "train_labels = to_categorical(train_labels)\n",
        "valid_labels = to_categorical(valid_labels)\n",
        "\n",
        "# Превратим в торч тензоры\n",
        "train_feat = torch.FloatTensor(train_feat.values).to(device)\n",
        "train_labels = torch.FloatTensor(train_labels).to(device)\n",
        "\n",
        "valid_feat = torch.FloatTensor(valid_feat.values).to(device)\n",
        "valid_labels = torch.FloatTensor(valid_labels).to(device)"
      ],
      "execution_count": 45,
      "outputs": []
    },
    {
      "cell_type": "code",
      "metadata": {
        "id": "o4FjeYlwxVeD"
      },
      "source": [
        "torch.manual_seed(42) \n",
        "#np.random.seed(42)\n",
        "model = nn.Sequential(\n",
        "    torch.nn.Linear(train_feat.shape[1], 100),\n",
        "    torch.nn.ReLU(), \n",
        "    torch.nn.Dropout(p=0.5), \n",
        "    torch.nn.BatchNorm1d(100), \n",
        "    torch.nn.Linear(100, 100), \n",
        "    torch.nn.ReLU(),\n",
        "    torch.nn.Dropout(p=0.5),\n",
        "    torch.nn.BatchNorm1d(100), \n",
        "    torch.nn.Linear(100,2)\n",
        ")\n",
        "model = model.to(device) \n",
        "loss_fn = torch.nn.BCEWithLogitsLoss()\n",
        "optimizer = torch.optim.Adam(model.parameters(),lr=1e-3)"
      ],
      "execution_count": 57,
      "outputs": []
    },
    {
      "cell_type": "code",
      "metadata": {
        "id": "taB3RVuJxVky",
        "outputId": "c2e9f70a-3036-415f-9f81-6108050494b6",
        "colab": {
          "base_uri": "https://localhost:8080/",
          "height": 286
        }
      },
      "source": [
        "train_losses, test_losses, acc_roc, best_acc  = train(100)\n",
        "plt.scatter(range(len(train_losses)), train_losses)\n",
        "plt.scatter(range(len(test_losses)), test_losses)\n",
        "plt.scatter(range(len(acc_roc)), acc_roc)"
      ],
      "execution_count": 58,
      "outputs": [
        {
          "output_type": "execute_result",
          "data": {
            "text/plain": [
              "<matplotlib.collections.PathCollection at 0x7fb84289c4a8>"
            ]
          },
          "metadata": {
            "tags": []
          },
          "execution_count": 58
        },
        {
          "output_type": "display_data",
          "data": {
            "image/png": "[encoded data removed]",
            "text/plain": [
              "<Figure size 432x288 with 1 Axes>"
            ]
          },
          "metadata": {
            "tags": [],
            "needs_background": "light"
          }
        }
      ]
    },
    {
      "cell_type": "code",
      "metadata": {
        "id": "IlggeaDXxVhI",
        "outputId": "0a31b606-d56f-410f-b52f-0242b0cd1086",
        "colab": {
          "base_uri": "https://localhost:8080/",
          "height": 0
        }
      },
      "source": [
        "print('Лучшая точность:', np.round((best_acc*100), 2) , '%')"
      ],
      "execution_count": 59,
      "outputs": [
        {
          "output_type": "stream",
          "text": [
            "Лучшая точность: 91.93 %\n"
          ],
          "name": "stdout"
        }
      ]
    },
    {
      "cell_type": "markdown",
      "metadata": {
        "id": "X8GqRG4k8cVj"
      },
      "source": [
        "Такая разница в значение лоссов объясняется тем что в тренировочной выборке соотношение классов 1к40 а в валидационной 1к1"
      ]
    },
    {
      "cell_type": "markdown",
      "metadata": {
        "id": "PevUzIdn8tLe"
      },
      "source": [
        "\n",
        "Продолжим заниматься задачей оптимизации, определим оптимальные параметры модели - learning rate, количество нейронов в слое, количество эпох и глубину сети. Для определения эффективности увеличения слоев сети напишем цикл, который при каждой итерации будем увеличивать глубину модели.\n"
      ]
    },
    {
      "cell_type": "code",
      "metadata": {
        "id": "EHgX1w8AqUUn",
        "outputId": "4f01e2df-f9dd-4c60-adcf-0a6def5ab2e9",
        "colab": {
          "base_uri": "https://localhost:8080/",
          "height": 626
        }
      },
      "source": [
        "n_bloks, min_loss = range(1,6), []\n",
        "\n",
        "fig, axs = plt.subplots(1, 1, figsize=(14,10))\n",
        "\n",
        "acc_best = 0\n",
        "best_block = 0\n",
        "\n",
        "for n_blok in n_bloks:\n",
        "    #print(n_blok)\n",
        "\n",
        "    # перезадаем инициализаторы случаный чисел\n",
        "    torch.manual_seed(42)   \n",
        "    np.random.seed(42)\n",
        "\n",
        "    # создаем модель\n",
        "    header = nn.Sequential(\n",
        "        nn.Linear(len(feature_columns), 150),\n",
        "        nn.ReLU(),\n",
        "        nn.Dropout(p=0.5),\n",
        "        nn.BatchNorm1d(150))\n",
        "\n",
        "    blocks = []\n",
        "    for i in range(n_blok):\n",
        "      blocks.append(nn.Linear(150, 150))\n",
        "      blocks.append(nn.ReLU())\n",
        "      blocks.append(nn.Dropout(p=0.5))\n",
        "      blocks.append(nn.BatchNorm1d(150))\n",
        "\n",
        "        \n",
        "\n",
        "    blocks = nn.Sequential(*blocks)\n",
        "\n",
        "    footer = nn.Sequential(\n",
        "        nn.Linear(150, 2))\n",
        "\n",
        "    model = nn.Sequential(header, blocks, footer)\n",
        "    model = model.to(device)\n",
        "\n",
        "    # задаем Loss функцию и оптимизатор\n",
        "    loss_fn = torch.nn.BCEWithLogitsLoss()\n",
        "    optimizer = torch.optim.Adam(model.parameters(), lr=1e-2) # все параметры модели\n",
        "\n",
        "    train_losses, test_losses, acc_rocc, best_acc = train(100)\n",
        "\n",
        "    # Запомним наилучшее значние точности\n",
        "    if acc_rocc[np.argmax(acc_rocc)] > acc_best:\n",
        "      acc_best = acc_rocc[np.argmax(acc_rocc)]\n",
        "      best_block = n_blok\n",
        "\n",
        "    #axs.plot(range(len(test_losses)), test_losses, label=f'число блоков {n_blok}')\n",
        "    axs.plot(range(len(acc_rocc)), acc_rocc, label=f'число блоков {n_blok}')\n",
        "    model.train(False)\n",
        "    min_loss.append(np.min(test_losses))\n",
        "\n",
        "plt.legend()\n",
        "\n",
        "print('Лучшая точность:', np.round((acc_best*100), 2) , '%')\n",
        "print('Колличество блоков:', best_block)"
      ],
      "execution_count": 75,
      "outputs": [
        {
          "output_type": "stream",
          "text": [
            "Лучшая точность: 92.24 %\n",
            "Колличество блоков: 2\n"
          ],
          "name": "stdout"
        },
        {
          "output_type": "display_data",
          "data": {
            "image/png": "[encoded data removed]",
            "text/plain": [
              "<Figure size 1008x720 with 1 Axes>"
            ]
          },
          "metadata": {
            "tags": [],
            "needs_background": "light"
          }
        }
      ]
    },
    {
      "cell_type": "markdown",
      "metadata": {
        "id": "AroKlh_ctDMJ"
      },
      "source": [
        "Сохраним лучшую модель"
      ]
    },
    {
      "cell_type": "code",
      "metadata": {
        "id": "BxiR86_atF5F"
      },
      "source": [
        "torch.manual_seed(42) \n",
        "model = nn.Sequential(\n",
        "    torch.nn.Linear(train_feat.shape[1], 150),\n",
        "    torch.nn.ReLU(), \n",
        "    torch.nn.Dropout(p=0.5), \n",
        "    torch.nn.BatchNorm1d(150), \n",
        "    torch.nn.Linear(150, 150), \n",
        "    torch.nn.ReLU(),\n",
        "    torch.nn.Dropout(p=0.5),\n",
        "    torch.nn.BatchNorm1d(150),\n",
        "    torch.nn.Linear(150, 150), \n",
        "    torch.nn.ReLU(),\n",
        "    torch.nn.Dropout(p=0.5),\n",
        "    torch.nn.BatchNorm1d(150),\n",
        "    torch.nn.Linear(150,2)\n",
        ")\n",
        "model = model.to(device) \n",
        "loss_fn = torch.nn.BCEWithLogitsLoss()\n",
        "optimizer = torch.optim.Adam(model.parameters(),lr=1e-2)"
      ],
      "execution_count": 76,
      "outputs": []
    },
    {
      "cell_type": "code",
      "metadata": {
        "id": "38I5OyKltTri",
        "outputId": "ac17c584-5ef8-4859-ac41-9bc4c65670a5",
        "colab": {
          "base_uri": "https://localhost:8080/",
          "height": 282
        }
      },
      "source": [
        "train_losses, test_losses, acc_roc, best_acc  = train(100,sv=True)\n",
        "plt.scatter(range(len(train_losses)), train_losses)\n",
        "plt.scatter(range(len(test_losses)), test_losses)\n",
        "plt.scatter(range(len(acc_roc)), acc_roc)"
      ],
      "execution_count": 77,
      "outputs": [
        {
          "output_type": "execute_result",
          "data": {
            "text/plain": [
              "<matplotlib.collections.PathCollection at 0x7fb832c55f60>"
            ]
          },
          "metadata": {
            "tags": []
          },
          "execution_count": 77
        },
        {
          "output_type": "display_data",
          "data": {
            "image/png": "[encoded data removed]",
            "text/plain": [
              "<Figure size 432x288 with 1 Axes>"
            ]
          },
          "metadata": {
            "tags": [],
            "needs_background": "light"
          }
        }
      ]
    },
    {
      "cell_type": "code",
      "metadata": {
        "id": "1coX6X3Atw89",
        "outputId": "cd9a650c-bdf8-43d5-f569-a6bb6306202c",
        "colab": {
          "base_uri": "https://localhost:8080/",
          "height": 0
        }
      },
      "source": [
        "print('Лучшая точность:', np.round((best_acc*100), 2) , '%')"
      ],
      "execution_count": 78,
      "outputs": [
        {
          "output_type": "stream",
          "text": [
            "Лучшая точность: 92.24 %\n"
          ],
          "name": "stdout"
        }
      ]
    },
    {
      "cell_type": "markdown",
      "metadata": {
        "id": "5bXtTPV6ehcJ"
      },
      "source": [
        "# Глава вторая.\n",
        "\n",
        "Определение товара заменителя предложенное в первой главе имеет существенный недостаток - подразумевалось что такое товар обязательно принадлежит такой же иерархической категории как и товар чрезвычайной необходимости. Однако же товар заменитель скорее всего может иметь другую категорию (скорее всего т.к. доподлинно не известны иерархические категории). Попробую привести пример: студент зашел в магазин за сэндвичем с некоторым газированным напитком, в магазине такого напитка не оказалось (например кока-кола), и вместо того чтобы взять ближайший аналог(пепси), студент предпочел бутылку простой воды или сока. Данные товары будут иметь разные иерархические категории, но при этом бутылка воды оказалось наилучшим заменителем.\n",
        "\n",
        "Чтобы учитывать такую поведенческую характеристику клиентов магазина, кажется хорошей идеей применить модель машинного обучения word2vec, где вместо корпуса текстов будут данные чеков, а именно категорий товаров.\n",
        "\n",
        "**Подготовка данных**\n",
        "\n",
        "\n",
        "Сперва необходимо преобразовать категории товаров в \"слова\", которые будут представлять словарь для модели"
      ]
    },
    {
      "cell_type": "code",
      "metadata": {
        "id": "o2ee5qzqlEOb"
      },
      "source": [
        "import numpy as np\n",
        "import pandas as pd\n",
        "import torch\n",
        "from torch import nn\n",
        "from torch import functional as F\n",
        "from sklearn import datasets\n",
        "from sklearn.model_selection import train_test_split\n",
        "from matplotlib import pyplot as plt\n",
        "from sklearn.metrics import roc_auc_score\n",
        "from keras.utils import to_categorical\n",
        "from collections import Counter\n",
        "import random, math\n",
        "import itertools"
      ],
      "execution_count": 79,
      "outputs": []
    },
    {
      "cell_type": "code",
      "metadata": {
        "id": "CEypBqkPlve4"
      },
      "source": [
        "# Загрузим полученную в первой главе таблицу с артикулами товара и их кодированными категориями\n",
        "mat = pd.read_csv('/content/drive/My Drive/Lenta/backups/stack_tables_coded.csv')"
      ],
      "execution_count": 80,
      "outputs": []
    },
    {
      "cell_type": "code",
      "metadata": {
        "id": "lf7MPLNjhAe6"
      },
      "source": [
        "# В первой главе мы приняли, что только товары имеющие суммарные прадажи за год более 150 штук\n",
        "# могут быть товарами категории 1 поэтому удалим артикулы товаров которые покупали менее 150 раз\n",
        "mat = mat[mat['sales_count'] > 150]\n",
        "mat.reset_index(level=0, inplace=True)\n"
      ],
      "execution_count": 81,
      "outputs": []
    },
    {
      "cell_type": "code",
      "metadata": {
        "id": "adC_5nGtmzMF",
        "outputId": "231a1a65-883a-4f90-b013-cd1e868fe064",
        "colab": {
          "base_uri": "https://localhost:8080/",
          "height": 204
        }
      },
      "source": [
        "mat.head()"
      ],
      "execution_count": 82,
      "outputs": [
        {
          "output_type": "execute_result",
          "data": {
            "text/html": [
              "<div>\n",
              "<style scoped>\n",
              "    .dataframe tbody tr th:only-of-type {\n",
              "        vertical-align: middle;\n",
              "    }\n",
              "\n",
              "    .dataframe tbody tr th {\n",
              "        vertical-align: top;\n",
              "    }\n",
              "\n",
              "    .dataframe thead th {\n",
              "        text-align: right;\n",
              "    }\n",
              "</style>\n",
              "<table border=\"1\" class=\"dataframe\">\n",
              "  <thead>\n",
              "    <tr style=\"text-align: right;\">\n",
              "      <th></th>\n",
              "      <th>index</th>\n",
              "      <th>material</th>\n",
              "      <th>material.1</th>\n",
              "      <th>hier_level_1</th>\n",
              "      <th>hier_level_2</th>\n",
              "      <th>hier_level_3</th>\n",
              "      <th>hier_level_4</th>\n",
              "      <th>vendor</th>\n",
              "      <th>is_alco</th>\n",
              "      <th>category</th>\n",
              "      <th>sales_count</th>\n",
              "      <th>sales_sum</th>\n",
              "    </tr>\n",
              "  </thead>\n",
              "  <tbody>\n",
              "    <tr>\n",
              "      <th>0</th>\n",
              "      <td>0</td>\n",
              "      <td>35cbdf61de9e19c8b417327aaef14c88</td>\n",
              "      <td>35cbdf61de9e19c8b417327aaef14c88</td>\n",
              "      <td>1</td>\n",
              "      <td>56</td>\n",
              "      <td>250</td>\n",
              "      <td>1197</td>\n",
              "      <td>536</td>\n",
              "      <td>0</td>\n",
              "      <td>0</td>\n",
              "      <td>156.0</td>\n",
              "      <td>118.744936</td>\n",
              "    </tr>\n",
              "    <tr>\n",
              "      <th>1</th>\n",
              "      <td>14</td>\n",
              "      <td>c10f24786480fb3193733c6166d3a37d</td>\n",
              "      <td>c10f24786480fb3193733c6166d3a37d</td>\n",
              "      <td>1</td>\n",
              "      <td>59</td>\n",
              "      <td>163</td>\n",
              "      <td>749</td>\n",
              "      <td>557</td>\n",
              "      <td>0</td>\n",
              "      <td>0</td>\n",
              "      <td>228.0</td>\n",
              "      <td>94.906447</td>\n",
              "    </tr>\n",
              "    <tr>\n",
              "      <th>2</th>\n",
              "      <td>18</td>\n",
              "      <td>2ff67aaf79e5a7aa52d36fba95c41f9b</td>\n",
              "      <td>2ff67aaf79e5a7aa52d36fba95c41f9b</td>\n",
              "      <td>1</td>\n",
              "      <td>23</td>\n",
              "      <td>10</td>\n",
              "      <td>1940</td>\n",
              "      <td>2826</td>\n",
              "      <td>0</td>\n",
              "      <td>0</td>\n",
              "      <td>152.0</td>\n",
              "      <td>53.749868</td>\n",
              "    </tr>\n",
              "    <tr>\n",
              "      <th>3</th>\n",
              "      <td>28</td>\n",
              "      <td>92ec5f13056d1c2c7c8d2df6ee545909</td>\n",
              "      <td>92ec5f13056d1c2c7c8d2df6ee545909</td>\n",
              "      <td>0</td>\n",
              "      <td>28</td>\n",
              "      <td>66</td>\n",
              "      <td>704</td>\n",
              "      <td>3300</td>\n",
              "      <td>0</td>\n",
              "      <td>0</td>\n",
              "      <td>911.0</td>\n",
              "      <td>22.969737</td>\n",
              "    </tr>\n",
              "    <tr>\n",
              "      <th>4</th>\n",
              "      <td>30</td>\n",
              "      <td>255331bfbfe72c0a0bb5a2786ae52ed4</td>\n",
              "      <td>255331bfbfe72c0a0bb5a2786ae52ed4</td>\n",
              "      <td>0</td>\n",
              "      <td>28</td>\n",
              "      <td>267</td>\n",
              "      <td>1339</td>\n",
              "      <td>3300</td>\n",
              "      <td>0</td>\n",
              "      <td>0</td>\n",
              "      <td>408.0</td>\n",
              "      <td>13.765466</td>\n",
              "    </tr>\n",
              "  </tbody>\n",
              "</table>\n",
              "</div>"
            ],
            "text/plain": [
              "   index                          material  ... sales_count   sales_sum\n",
              "0      0  35cbdf61de9e19c8b417327aaef14c88  ...       156.0  118.744936\n",
              "1     14  c10f24786480fb3193733c6166d3a37d  ...       228.0   94.906447\n",
              "2     18  2ff67aaf79e5a7aa52d36fba95c41f9b  ...       152.0   53.749868\n",
              "3     28  92ec5f13056d1c2c7c8d2df6ee545909  ...       911.0   22.969737\n",
              "4     30  255331bfbfe72c0a0bb5a2786ae52ed4  ...       408.0   13.765466\n",
              "\n",
              "[5 rows x 12 columns]"
            ]
          },
          "metadata": {
            "tags": []
          },
          "execution_count": 82
        }
      ]
    },
    {
      "cell_type": "code",
      "metadata": {
        "id": "UfzWuyPrmaLG"
      },
      "source": [
        "# Удалим из таблицы не интересующие нас столбцы\n",
        "mat.drop(['material.1'],axis='columns', inplace=True)\n",
        "mat.drop(['vendor'],axis='columns', inplace=True)\n",
        "mat.drop(['is_alco'],axis='columns', inplace=True)\n",
        "mat.drop(['category'],axis='columns', inplace=True)\n",
        "mat.drop(['sales_count'],axis='columns', inplace=True)\n",
        "mat.drop(['sales_sum'],axis='columns', inplace=True)\n",
        "mat.drop(['index'],axis='columns', inplace=True)"
      ],
      "execution_count": 83,
      "outputs": []
    },
    {
      "cell_type": "code",
      "metadata": {
        "id": "XwW-OlnNmaOE"
      },
      "source": [
        "# Переведем столбцы категорий в тип строки\n",
        "mat['hier_level_1'] = mat['hier_level_1'].apply(str)\n",
        "mat['hier_level_2'] = mat['hier_level_2'].apply(str)\n",
        "mat['hier_level_3'] = mat['hier_level_3'].apply(str)\n",
        "mat['hier_level_4'] = mat['hier_level_4'].apply(str)"
      ],
      "execution_count": 84,
      "outputs": []
    },
    {
      "cell_type": "code",
      "metadata": {
        "id": "hPo8AuqMmaTA"
      },
      "source": [
        "# Сделаем кодировку категорий товаров в \"словесную\" форму\n",
        "for i in range(len(mat['hier_level_4'])):\n",
        "  if len(mat['hier_level_4'][i]) == 1:\n",
        "    mat['hier_level_4'][i] = '000' + mat['hier_level_4'][i]\n",
        "  if len(mat['hier_level_4'][i]) == 2:\n",
        "    mat['hier_level_4'][i] = '00' + mat['hier_level_4'][i]\n",
        "  if len(mat['hier_level_4'][i]) == 3:\n",
        "    mat['hier_level_4'][i] = '0' + mat['hier_level_4'][i] \n",
        "\n",
        "for i in range(len(mat['hier_level_3'])):\n",
        "  if len(mat['hier_level_3'][i]) == 2:\n",
        "    mat['hier_level_3'][i] = '0' + mat['hier_level_3'][i]\n",
        "  if len(mat['hier_level_3'][i]) == 1:\n",
        "    mat['hier_level_3'][i] = '00' + mat['hier_level_3'][i] \n",
        "\n",
        "for i in range(len(mat['hier_level_2'])):\n",
        "  if len(mat['hier_level_2'][i]) == 1:\n",
        "    mat['hier_level_2'][i] = '0' + mat['hier_level_2'][i]\n",
        "\n",
        "mat['code'] = 'a' + mat['hier_level_1'] + mat['hier_level_2'] + mat['hier_level_3'] + mat['hier_level_4'] + 'a'"
      ],
      "execution_count": 85,
      "outputs": []
    },
    {
      "cell_type": "code",
      "metadata": {
        "id": "BMSg8goUr1QQ"
      },
      "source": [
        "mat.drop(['hier_level_1'],axis='columns', inplace=True)\n",
        "mat.drop(['hier_level_2'],axis='columns', inplace=True)\n",
        "mat.drop(['hier_level_3'],axis='columns', inplace=True)\n",
        "mat.drop(['hier_level_4'],axis='columns', inplace=True)"
      ],
      "execution_count": 86,
      "outputs": []
    },
    {
      "cell_type": "code",
      "metadata": {
        "id": "LpsaIqUjhFu4",
        "outputId": "116cba20-374f-4465-b7bd-cf9c056a81c6",
        "colab": {
          "base_uri": "https://localhost:8080/",
          "height": 419
        }
      },
      "source": [
        "mat"
      ],
      "execution_count": 87,
      "outputs": [
        {
          "output_type": "execute_result",
          "data": {
            "text/html": [
              "<div>\n",
              "<style scoped>\n",
              "    .dataframe tbody tr th:only-of-type {\n",
              "        vertical-align: middle;\n",
              "    }\n",
              "\n",
              "    .dataframe tbody tr th {\n",
              "        vertical-align: top;\n",
              "    }\n",
              "\n",
              "    .dataframe thead th {\n",
              "        text-align: right;\n",
              "    }\n",
              "</style>\n",
              "<table border=\"1\" class=\"dataframe\">\n",
              "  <thead>\n",
              "    <tr style=\"text-align: right;\">\n",
              "      <th></th>\n",
              "      <th>material</th>\n",
              "      <th>code</th>\n",
              "    </tr>\n",
              "  </thead>\n",
              "  <tbody>\n",
              "    <tr>\n",
              "      <th>0</th>\n",
              "      <td>35cbdf61de9e19c8b417327aaef14c88</td>\n",
              "      <td>a1562501197a</td>\n",
              "    </tr>\n",
              "    <tr>\n",
              "      <th>1</th>\n",
              "      <td>c10f24786480fb3193733c6166d3a37d</td>\n",
              "      <td>a1591630749a</td>\n",
              "    </tr>\n",
              "    <tr>\n",
              "      <th>2</th>\n",
              "      <td>2ff67aaf79e5a7aa52d36fba95c41f9b</td>\n",
              "      <td>a1230101940a</td>\n",
              "    </tr>\n",
              "    <tr>\n",
              "      <th>3</th>\n",
              "      <td>92ec5f13056d1c2c7c8d2df6ee545909</td>\n",
              "      <td>a0280660704a</td>\n",
              "    </tr>\n",
              "    <tr>\n",
              "      <th>4</th>\n",
              "      <td>255331bfbfe72c0a0bb5a2786ae52ed4</td>\n",
              "      <td>a0282671339a</td>\n",
              "    </tr>\n",
              "    <tr>\n",
              "      <th>...</th>\n",
              "      <td>...</td>\n",
              "      <td>...</td>\n",
              "    </tr>\n",
              "    <tr>\n",
              "      <th>17500</th>\n",
              "      <td>b2e546d1674313345ef8356dffc8f12f</td>\n",
              "      <td>a0223161395a</td>\n",
              "    </tr>\n",
              "    <tr>\n",
              "      <th>17501</th>\n",
              "      <td>368e30a7c8d2fd90fd31a0ca060f6716</td>\n",
              "      <td>a0552021596a</td>\n",
              "    </tr>\n",
              "    <tr>\n",
              "      <th>17502</th>\n",
              "      <td>312fd7354caf59bf460ef03533e8a3f7</td>\n",
              "      <td>a0572600223a</td>\n",
              "    </tr>\n",
              "    <tr>\n",
              "      <th>17503</th>\n",
              "      <td>9084fe2d523366f6304e1baa498d063d</td>\n",
              "      <td>a0103471470a</td>\n",
              "    </tr>\n",
              "    <tr>\n",
              "      <th>17504</th>\n",
              "      <td>847db5047c254d27c4688848e247c0a0</td>\n",
              "      <td>a0103471925a</td>\n",
              "    </tr>\n",
              "  </tbody>\n",
              "</table>\n",
              "<p>17505 rows × 2 columns</p>\n",
              "</div>"
            ],
            "text/plain": [
              "                               material          code\n",
              "0      35cbdf61de9e19c8b417327aaef14c88  a1562501197a\n",
              "1      c10f24786480fb3193733c6166d3a37d  a1591630749a\n",
              "2      2ff67aaf79e5a7aa52d36fba95c41f9b  a1230101940a\n",
              "3      92ec5f13056d1c2c7c8d2df6ee545909  a0280660704a\n",
              "4      255331bfbfe72c0a0bb5a2786ae52ed4  a0282671339a\n",
              "...                                 ...           ...\n",
              "17500  b2e546d1674313345ef8356dffc8f12f  a0223161395a\n",
              "17501  368e30a7c8d2fd90fd31a0ca060f6716  a0552021596a\n",
              "17502  312fd7354caf59bf460ef03533e8a3f7  a0572600223a\n",
              "17503  9084fe2d523366f6304e1baa498d063d  a0103471470a\n",
              "17504  847db5047c254d27c4688848e247c0a0  a0103471925a\n",
              "\n",
              "[17505 rows x 2 columns]"
            ]
          },
          "metadata": {
            "tags": []
          },
          "execution_count": 87
        }
      ]
    },
    {
      "cell_type": "code",
      "metadata": {
        "id": "m5Sd9ZDKsPVm"
      },
      "source": [
        "mat.to_csv('/content/drive/My Drive/Lenta/backups/words_coded.csv')"
      ],
      "execution_count": null,
      "outputs": []
    },
    {
      "cell_type": "code",
      "metadata": {
        "id": "vr-9h0i-ENCu"
      },
      "source": [
        "mat = pd.read_csv('/content/drive/My Drive/Lenta/backups/words_coded.csv',dtype=object, index_col=0)"
      ],
      "execution_count": null,
      "outputs": []
    },
    {
      "cell_type": "markdown",
      "metadata": {
        "id": "o7BxfI0ssCLe"
      },
      "source": [
        "Такая кодировка поможет нам легко взаимодействовать между обычными таблицами и эмбедингами"
      ]
    },
    {
      "cell_type": "markdown",
      "metadata": {
        "id": "ZI9MJhLltJ0e"
      },
      "source": [
        "Теперь необходимо создать корпус покупок"
      ]
    },
    {
      "cell_type": "code",
      "metadata": {
        "id": "lC0rWMiKnwSr"
      },
      "source": [
        "trans = pd.read_csv('/content/drive/My Drive/Lenta/transactions.csv')"
      ],
      "execution_count": 88,
      "outputs": []
    },
    {
      "cell_type": "code",
      "metadata": {
        "id": "-NaKi3QntmxZ",
        "outputId": "9a5c1aa7-b7e6-4a1b-9bd2-668c753c5884",
        "colab": {
          "base_uri": "https://localhost:8080/",
          "height": 326
        }
      },
      "source": [
        "trans.head()"
      ],
      "execution_count": 89,
      "outputs": [
        {
          "output_type": "execute_result",
          "data": {
            "text/html": [
              "<div>\n",
              "<style scoped>\n",
              "    .dataframe tbody tr th:only-of-type {\n",
              "        vertical-align: middle;\n",
              "    }\n",
              "\n",
              "    .dataframe tbody tr th {\n",
              "        vertical-align: top;\n",
              "    }\n",
              "\n",
              "    .dataframe thead th {\n",
              "        text-align: right;\n",
              "    }\n",
              "</style>\n",
              "<table border=\"1\" class=\"dataframe\">\n",
              "  <thead>\n",
              "    <tr style=\"text-align: right;\">\n",
              "      <th></th>\n",
              "      <th>Unnamed: 0</th>\n",
              "      <th>chq_id</th>\n",
              "      <th>plant</th>\n",
              "      <th>chq_date</th>\n",
              "      <th>chq_position</th>\n",
              "      <th>client_id</th>\n",
              "      <th>material</th>\n",
              "      <th>sales_count</th>\n",
              "      <th>sales_sum</th>\n",
              "      <th>is_promo</th>\n",
              "    </tr>\n",
              "  </thead>\n",
              "  <tbody>\n",
              "    <tr>\n",
              "      <th>0</th>\n",
              "      <td>0</td>\n",
              "      <td>ce5b3d1c531348c5d0d8e859b6d0cf91</td>\n",
              "      <td>7cd86ecb09aa48c6e620b340f6a74592</td>\n",
              "      <td>2016-11-01</td>\n",
              "      <td>4</td>\n",
              "      <td>90fca68123e692a005a4edeadd94b2f2</td>\n",
              "      <td>232cfe8b28970434f685b737737b26d4</td>\n",
              "      <td>2.0</td>\n",
              "      <td>146.98</td>\n",
              "      <td>0</td>\n",
              "    </tr>\n",
              "    <tr>\n",
              "      <th>1</th>\n",
              "      <td>1</td>\n",
              "      <td>ce5b3d1c531348c5d0d8e859b6d0cf91</td>\n",
              "      <td>7cd86ecb09aa48c6e620b340f6a74592</td>\n",
              "      <td>2016-11-01</td>\n",
              "      <td>3</td>\n",
              "      <td>90fca68123e692a005a4edeadd94b2f2</td>\n",
              "      <td>12ec64451b8e426db16f3f05ea770901</td>\n",
              "      <td>1.0</td>\n",
              "      <td>249.99</td>\n",
              "      <td>1</td>\n",
              "    </tr>\n",
              "    <tr>\n",
              "      <th>2</th>\n",
              "      <td>2</td>\n",
              "      <td>ce5b3d1c531348c5d0d8e859b6d0cf91</td>\n",
              "      <td>7cd86ecb09aa48c6e620b340f6a74592</td>\n",
              "      <td>2016-11-01</td>\n",
              "      <td>12</td>\n",
              "      <td>90fca68123e692a005a4edeadd94b2f2</td>\n",
              "      <td>1212ff8ecf53aebef093ca8ae216db68</td>\n",
              "      <td>1.0</td>\n",
              "      <td>47.99</td>\n",
              "      <td>1</td>\n",
              "    </tr>\n",
              "    <tr>\n",
              "      <th>3</th>\n",
              "      <td>3</td>\n",
              "      <td>ce5b3d1c531348c5d0d8e859b6d0cf91</td>\n",
              "      <td>7cd86ecb09aa48c6e620b340f6a74592</td>\n",
              "      <td>2016-11-01</td>\n",
              "      <td>13</td>\n",
              "      <td>90fca68123e692a005a4edeadd94b2f2</td>\n",
              "      <td>1212ff8ecf53aebef093ca8ae216db68</td>\n",
              "      <td>1.0</td>\n",
              "      <td>47.99</td>\n",
              "      <td>1</td>\n",
              "    </tr>\n",
              "    <tr>\n",
              "      <th>4</th>\n",
              "      <td>4</td>\n",
              "      <td>ce5b3d1c531348c5d0d8e859b6d0cf91</td>\n",
              "      <td>7cd86ecb09aa48c6e620b340f6a74592</td>\n",
              "      <td>2016-11-01</td>\n",
              "      <td>11</td>\n",
              "      <td>90fca68123e692a005a4edeadd94b2f2</td>\n",
              "      <td>571c6d3b559db8445e05265649eb30ab</td>\n",
              "      <td>2.0</td>\n",
              "      <td>53.98</td>\n",
              "      <td>1</td>\n",
              "    </tr>\n",
              "  </tbody>\n",
              "</table>\n",
              "</div>"
            ],
            "text/plain": [
              "   Unnamed: 0                            chq_id  ... sales_sum is_promo\n",
              "0           0  ce5b3d1c531348c5d0d8e859b6d0cf91  ...    146.98        0\n",
              "1           1  ce5b3d1c531348c5d0d8e859b6d0cf91  ...    249.99        1\n",
              "2           2  ce5b3d1c531348c5d0d8e859b6d0cf91  ...     47.99        1\n",
              "3           3  ce5b3d1c531348c5d0d8e859b6d0cf91  ...     47.99        1\n",
              "4           4  ce5b3d1c531348c5d0d8e859b6d0cf91  ...     53.98        1\n",
              "\n",
              "[5 rows x 10 columns]"
            ]
          },
          "metadata": {
            "tags": []
          },
          "execution_count": 89
        }
      ]
    },
    {
      "cell_type": "code",
      "metadata": {
        "id": "w6IZscuYtpdN"
      },
      "source": [
        "# Удалим не нужные нам столбцы из таблицы\n",
        "trans.drop(['Unnamed: 0'],axis='columns', inplace=True)\n",
        "trans.drop(['plant'],axis='columns', inplace=True)\n",
        "trans.drop(['chq_date'],axis='columns', inplace=True)\n",
        "trans.drop(['client_id'],axis='columns', inplace=True)\n",
        "trans.drop(['sales_count'],axis='columns', inplace=True)\n",
        "trans.drop(['sales_sum'],axis='columns', inplace=True)\n",
        "trans.drop(['is_promo'],axis='columns', inplace=True)\n",
        "trans.drop(['chq_position'],axis='columns', inplace=True)"
      ],
      "execution_count": null,
      "outputs": []
    },
    {
      "cell_type": "code",
      "metadata": {
        "id": "HPYztvMP9pLk"
      },
      "source": [
        "# Превратим таблицу mat в словарь\n",
        "mat = mat.set_index('material')\n",
        "mat = mat.to_dict()['code']"
      ],
      "execution_count": null,
      "outputs": []
    },
    {
      "cell_type": "code",
      "metadata": {
        "id": "BDzbI7rA9pOK"
      },
      "source": [
        "# Добавим новый столбец к таблице покупок с кодировкой товаров\n",
        "trans['mat'] = trans['material'].map(mat)\n",
        "# Удалим пустые строки\n",
        "trans = trans.dropna()\n",
        "# И сгруппируем по чекам\n",
        "trans = trans.groupby('chq_id').agg(lambda x: x.tolist())"
      ],
      "execution_count": null,
      "outputs": []
    },
    {
      "cell_type": "code",
      "metadata": {
        "id": "B2jbWoEUEmjL"
      },
      "source": [
        "# Будем брать только чеки длиньше 2 и короче 15 покупок\n",
        "trans = trans[trans['mat'].map(len) > 2]\n",
        "trans = trans[trans['mat'].map(len) < 15]"
      ],
      "execution_count": null,
      "outputs": []
    },
    {
      "cell_type": "code",
      "metadata": {
        "id": "I96o85nGFClI"
      },
      "source": [
        "# Удалим не нужные колонки\n",
        "trans.reset_index(level=0, inplace=True)\n",
        "trans.drop(['chq_id'],axis='columns', inplace=True)\n",
        "trans.drop(['material'],axis='columns', inplace=True)"
      ],
      "execution_count": null,
      "outputs": []
    },
    {
      "cell_type": "code",
      "metadata": {
        "id": "tNbajS3-GhHf"
      },
      "source": [
        "# Backup\n",
        "trans.to_csv('/content/drive/My Drive/Lenta/corpus.csv')"
      ],
      "execution_count": null,
      "outputs": []
    },
    {
      "cell_type": "code",
      "metadata": {
        "id": "2vc-xaIN90CM"
      },
      "source": [
        "trans = pd.read_csv('/content/drive/My Drive/Lenta/corpus.csv')"
      ],
      "execution_count": null,
      "outputs": []
    },
    {
      "cell_type": "code",
      "metadata": {
        "id": "IyE3EbvOHGm8",
        "outputId": "3ace9d5b-279f-4890-a578-255edca77823",
        "colab": {
          "base_uri": "https://localhost:8080/",
          "height": 419
        }
      },
      "source": [
        "trans.head()"
      ],
      "execution_count": null,
      "outputs": [
        {
          "output_type": "execute_result",
          "data": {
            "text/html": [
              "<div>\n",
              "<style scoped>\n",
              "    .dataframe tbody tr th:only-of-type {\n",
              "        vertical-align: middle;\n",
              "    }\n",
              "\n",
              "    .dataframe tbody tr th {\n",
              "        vertical-align: top;\n",
              "    }\n",
              "\n",
              "    .dataframe thead th {\n",
              "        text-align: right;\n",
              "    }\n",
              "</style>\n",
              "<table border=\"1\" class=\"dataframe\">\n",
              "  <thead>\n",
              "    <tr style=\"text-align: right;\">\n",
              "      <th></th>\n",
              "      <th>Unnamed: 0</th>\n",
              "      <th>mat</th>\n",
              "    </tr>\n",
              "  </thead>\n",
              "  <tbody>\n",
              "    <tr>\n",
              "      <th>0</th>\n",
              "      <td>0</td>\n",
              "      <td>['a0261020881a', 'a0210150831a', 'a0370071626a...</td>\n",
              "    </tr>\n",
              "    <tr>\n",
              "      <th>1</th>\n",
              "      <td>1</td>\n",
              "      <td>['a0320830626a', 'a0282671339a', 'a0250221517a...</td>\n",
              "    </tr>\n",
              "    <tr>\n",
              "      <th>2</th>\n",
              "      <td>2</td>\n",
              "      <td>['a0273761149a', 'a0083270567a', 'a0371980047a...</td>\n",
              "    </tr>\n",
              "    <tr>\n",
              "      <th>3</th>\n",
              "      <td>3</td>\n",
              "      <td>['a1513720168a', 'a1513030675a', 'a0062070180a...</td>\n",
              "    </tr>\n",
              "    <tr>\n",
              "      <th>4</th>\n",
              "      <td>4</td>\n",
              "      <td>['a1522171650a', 'a0282671493a', 'a1311381491a...</td>\n",
              "    </tr>\n",
              "    <tr>\n",
              "      <th>...</th>\n",
              "      <td>...</td>\n",
              "      <td>...</td>\n",
              "    </tr>\n",
              "    <tr>\n",
              "      <th>1712499</th>\n",
              "      <td>1712499</td>\n",
              "      <td>['a0271081512a', 'a0351191815a', 'a1511641646a...</td>\n",
              "    </tr>\n",
              "    <tr>\n",
              "      <th>1712500</th>\n",
              "      <td>1712500</td>\n",
              "      <td>['a0322251577a', 'a0201830353a', 'a0201830476a...</td>\n",
              "    </tr>\n",
              "    <tr>\n",
              "      <th>1712501</th>\n",
              "      <td>1712501</td>\n",
              "      <td>['a1513030675a', 'a0461570596a', 'a0163431554a...</td>\n",
              "    </tr>\n",
              "    <tr>\n",
              "      <th>1712502</th>\n",
              "      <td>1712502</td>\n",
              "      <td>['a0322130711a', 'a0083330724a', 'a0083330724a...</td>\n",
              "    </tr>\n",
              "    <tr>\n",
              "      <th>1712503</th>\n",
              "      <td>1712503</td>\n",
              "      <td>['a0250291074a', 'a0350161614a', 'a0390731281a']</td>\n",
              "    </tr>\n",
              "  </tbody>\n",
              "</table>\n",
              "<p>1712504 rows × 2 columns</p>\n",
              "</div>"
            ],
            "text/plain": [
              "         Unnamed: 0                                                mat\n",
              "0                 0  ['a0261020881a', 'a0210150831a', 'a0370071626a...\n",
              "1                 1  ['a0320830626a', 'a0282671339a', 'a0250221517a...\n",
              "2                 2  ['a0273761149a', 'a0083270567a', 'a0371980047a...\n",
              "3                 3  ['a1513720168a', 'a1513030675a', 'a0062070180a...\n",
              "4                 4  ['a1522171650a', 'a0282671493a', 'a1311381491a...\n",
              "...             ...                                                ...\n",
              "1712499     1712499  ['a0271081512a', 'a0351191815a', 'a1511641646a...\n",
              "1712500     1712500  ['a0322251577a', 'a0201830353a', 'a0201830476a...\n",
              "1712501     1712501  ['a1513030675a', 'a0461570596a', 'a0163431554a...\n",
              "1712502     1712502  ['a0322130711a', 'a0083330724a', 'a0083330724a...\n",
              "1712503     1712503   ['a0250291074a', 'a0350161614a', 'a0390731281a']\n",
              "\n",
              "[1712504 rows x 2 columns]"
            ]
          },
          "metadata": {
            "tags": []
          },
          "execution_count": 6
        }
      ]
    },
    {
      "cell_type": "markdown",
      "metadata": {
        "id": "AhvGkPJLwxIj"
      },
      "source": [
        "**Обработка данных для модели SkipGramm**"
      ]
    },
    {
      "cell_type": "code",
      "metadata": {
        "id": "9TgOVxsaw7GO"
      },
      "source": [
        "# Переведем полученные данные в корпус состоящий из списка списков чеков\n",
        "corpus = trans['mat'].values.tolist()"
      ],
      "execution_count": null,
      "outputs": []
    },
    {
      "cell_type": "code",
      "metadata": {
        "id": "nO0Nc842w7b6",
        "outputId": "7a73aee0-b380-47ce-e587-ab2ad539fb49",
        "colab": {
          "base_uri": "https://localhost:8080/"
        }
      },
      "source": [
        "corpus[:2]"
      ],
      "execution_count": null,
      "outputs": [
        {
          "output_type": "execute_result",
          "data": {
            "text/plain": [
              "[['a0261020881a',\n",
              "  'a0210150831a',\n",
              "  'a0370071626a',\n",
              "  'a0352901860a',\n",
              "  'a1513030675a',\n",
              "  'a0370071626a'],\n",
              " ['a0320830626a',\n",
              "  'a0282671339a',\n",
              "  'a0250221517a',\n",
              "  'a1513030675a',\n",
              "  'a0460951323a',\n",
              "  'a0271451289a']]"
            ]
          },
          "metadata": {
            "tags": []
          },
          "execution_count": 15
        }
      ]
    },
    {
      "cell_type": "code",
      "metadata": {
        "id": "FqapNMXFEmSU"
      },
      "source": [
        "# Создадим словарь\n",
        "vocabulary = []\n",
        "for sentence in corpus:\n",
        "    for token in sentence:\n",
        "        if token not in vocabulary:\n",
        "            vocabulary.append(token)\n",
        "\n",
        "word2idx = {w: idx for (idx, w) in enumerate(vocabulary)}\n",
        "idx2word = {idx: w for (idx, w) in enumerate(vocabulary)}\n",
        "\n",
        "vocabulary_size = len(vocabulary)"
      ],
      "execution_count": null,
      "outputs": []
    },
    {
      "cell_type": "code",
      "metadata": {
        "id": "fiFK9GSeMh08"
      },
      "source": [
        "import pickle"
      ],
      "execution_count": 3,
      "outputs": []
    },
    {
      "cell_type": "code",
      "metadata": {
        "id": "YTGFZ1zAMMmE"
      },
      "source": [
        "# Backup\n",
        "with open('/content/drive/My Drive/Lenta/backups/w2i.pkl', 'wb') as f:\n",
        "  pickle.dump(word2idx, f, pickle.HIGHEST_PROTOCOL)"
      ],
      "execution_count": null,
      "outputs": []
    },
    {
      "cell_type": "code",
      "metadata": {
        "id": "mbtD4uvxMmNU"
      },
      "source": [
        "# Backup\n",
        "with open('/content/drive/My Drive/Lenta/backups/i2w.pkl', 'wb') as f:\n",
        "  pickle.dump(idx2word, f, pickle.HIGHEST_PROTOCOL)"
      ],
      "execution_count": null,
      "outputs": []
    },
    {
      "cell_type": "code",
      "metadata": {
        "id": "Ij2_BawvXKph"
      },
      "source": [
        "# Load\n",
        "with open('/content/drive/My Drive/Lenta/backups/w2i.pkl', 'rb') as f:\n",
        "  word2idx = pickle.load(f)"
      ],
      "execution_count": 4,
      "outputs": []
    },
    {
      "cell_type": "code",
      "metadata": {
        "id": "kC78D26OXKmj"
      },
      "source": [
        "# Load\n",
        "with open('/content/drive/My Drive/Lenta/backups/i2w.pkl', 'rb') as f:\n",
        "  idx2word = pickle.load(f)"
      ],
      "execution_count": 5,
      "outputs": []
    },
    {
      "cell_type": "code",
      "metadata": {
        "id": "dYQcRj2xMrEX",
        "outputId": "70bfbe61-7677-43c0-e332-80aeec52e8a2",
        "colab": {
          "base_uri": "https://localhost:8080/"
        }
      },
      "source": [
        "vocabulary_size"
      ],
      "execution_count": null,
      "outputs": [
        {
          "output_type": "execute_result",
          "data": {
            "text/plain": [
              "1228"
            ]
          },
          "metadata": {
            "tags": []
          },
          "execution_count": 24
        }
      ]
    },
    {
      "cell_type": "code",
      "metadata": {
        "id": "0jCbDXOlEmeb"
      },
      "source": [
        "# Переведем корпус в числа согласно словарю и обернем в тензор\n",
        "np_corpus = []\n",
        "for sentence in corpus:\n",
        "  np_corpus.append(([word2idx[w] for w in sentence])) \n",
        "\n",
        "np_corpus = np.array([np.array(i) for i in np_corpus])"
      ],
      "execution_count": null,
      "outputs": []
    },
    {
      "cell_type": "code",
      "metadata": {
        "id": "A8M4ceRpKzEI"
      },
      "source": [
        "# Backup\n",
        "np.save('/content/drive/My Drive/Lenta/backups/corpus', np_corpus)"
      ],
      "execution_count": null,
      "outputs": []
    },
    {
      "cell_type": "code",
      "metadata": {
        "id": "RYJsBcvkLOb7"
      },
      "source": [
        "# Load\n",
        "np_corpus = np.load('/content/drive/My Drive/Lenta/backups/corpus.npy', allow_pickle= True)"
      ],
      "execution_count": 6,
      "outputs": []
    },
    {
      "cell_type": "code",
      "metadata": {
        "id": "Yer6wDVSMzcq"
      },
      "source": [
        "# Товары и как часто они встречались\n",
        "word_counts = dict(Counter(list(itertools.chain.from_iterable(np_corpus))))"
      ],
      "execution_count": 7,
      "outputs": []
    },
    {
      "cell_type": "code",
      "metadata": {
        "id": "c1h21QECJCba"
      },
      "source": [
        "# Создадим массив для негативного контекста\n",
        "negatives =[]\n",
        "pow_frequency = np.array(list(word_counts.values())) ** 0.5\n",
        "words_pow = sum(pow_frequency)\n",
        "ratio = pow_frequency / words_pow\n",
        "count = np.round(ratio * 1e8)\n",
        "for wid, c in enumerate(count):\n",
        "  negatives += [wid] * int(c)\n",
        "negatives = np.array(negatives)\n",
        "np.random.shuffle(negatives)"
      ],
      "execution_count": 8,
      "outputs": []
    },
    {
      "cell_type": "code",
      "metadata": {
        "id": "ZoX2qD7BoVDh"
      },
      "source": [
        "\"\"\" Теперь необходимо создать функцию трейна, в которой будет генерироваться батчи\n",
        "в виде слово-контекст-негативный контекст и учить на этом нашу модель\n",
        "\"\"\"\n",
        "from tqdm import tqdm\n",
        "length = len(np_corpus)\n",
        "\n",
        "def train(skip_gram_model, iterations):\n",
        "  losses=[]\n",
        "  for iteration in range(iterations):\n",
        "\n",
        "    print(\"\\n\\n\\nIteration: \" + str(iteration + 1))\n",
        "    optimizer = torch.optim.SparseAdam(list(w2v_model.parameters()), lr=0.001)\n",
        "    running_loss = 0.0\n",
        "\n",
        "    for num_batches in tqdm(range((length // 2000)+1)):\n",
        "\n",
        "      target = []\n",
        "      context = []\n",
        "      negative = []\n",
        "      w = 4\n",
        "      indx1 = num_batches*2000\n",
        "      indx2 = indx1+2000\n",
        "\n",
        "      # Формируем батч слово-контекст-негативный и переводим к торч тензорам\n",
        "      if num_batches != (length // 2000):\n",
        "        for text in np_corpus[indx1:indx2]:\n",
        "          for i, word in enumerate(text):\n",
        "\n",
        "            first_context_index = max(0,i-w)\n",
        "            last_context_index = min(i+w, len(text))\n",
        "\n",
        "            for j in range(first_context_index, last_context_index):\n",
        "              if i!=j:\n",
        "                target.append(word)\n",
        "                context.append(text[j])\n",
        "                negative.append(np.random.choice(negatives, 3))\n",
        "\n",
        "      # Для последнего батча\n",
        "      elif num_batches == (length // 2000):\n",
        "\n",
        "        for text in np_corpus[1712000:]:\n",
        "          for i, word in enumerate(text):\n",
        "\n",
        "            first_context_index = max(0,i-w)\n",
        "            last_context_index = min(i+w, len(text))\n",
        "\n",
        "            for j in range(first_context_index, last_context_index):\n",
        "              if i!=j:\n",
        "                target.append(word)\n",
        "                context.append(text[j])\n",
        "                negative.append(np.random.choice(negatives, 4))\n",
        "      \n",
        "      target_tr = torch.LongTensor(target).to(device)\n",
        "      context_tr = torch.LongTensor(context).to(device)\n",
        "      negative_tr = torch.LongTensor(negative).to(device)\n",
        "  \n",
        "      # Делаем предсказания и шаг\n",
        "      optimizer.zero_grad()\n",
        "      loss = skip_gram_model.forward(target_tr, context_tr, negative_tr)\n",
        "      loss.backward()\n",
        "      losses.append(loss.item())\n",
        "      optimizer.step()\n",
        "  return losses\n"
      ],
      "execution_count": 9,
      "outputs": []
    },
    {
      "cell_type": "code",
      "metadata": {
        "id": "AJnllgdkuWYV"
      },
      "source": [
        "class SkipGramModel(nn.Module):\n",
        "\n",
        "    def __init__(self, emb_size, emb_dimension):\n",
        "        super(SkipGramModel, self).__init__()\n",
        "        self.emb_size = emb_size\n",
        "        self.emb_dimension = emb_dimension\n",
        "        self.u_embeddings = nn.Embedding(emb_size, emb_dimension, sparse=True)\n",
        "        self.v_embeddings = nn.Embedding(emb_size, emb_dimension, sparse=True)\n",
        "\n",
        "    def forward(self, pos_u, pos_v, neg_v):\n",
        "        emb_u = self.u_embeddings(pos_u)\n",
        "        emb_v = self.v_embeddings(pos_v)\n",
        "        emb_neg_v = self.v_embeddings(neg_v)\n",
        "\n",
        "        score = torch.sum(torch.mul(emb_u, emb_v), dim=1)\n",
        "        score = torch.clamp(score, max=10, min=-10)\n",
        "        score = -torch.nn.functional.logsigmoid(score)\n",
        "\n",
        "        neg_score = torch.bmm(emb_neg_v, emb_u.unsqueeze(2)).squeeze()\n",
        "        neg_score = torch.clamp(neg_score, max=10, min=-10)\n",
        "        neg_score = -torch.sum(torch.nn.functional.logsigmoid(-neg_score), dim=1)\n",
        "\n",
        "        return torch.mean(score + neg_score)"
      ],
      "execution_count": 10,
      "outputs": []
    },
    {
      "cell_type": "code",
      "metadata": {
        "id": "pTAAw4fQyVVo"
      },
      "source": [
        "device = \"cuda\" if torch.cuda.is_available() else \"cpu\""
      ],
      "execution_count": 13,
      "outputs": []
    },
    {
      "cell_type": "code",
      "metadata": {
        "id": "aeWyloYpuWV_"
      },
      "source": [
        "# Создаем модель, 1228 - размер словаря\n",
        "w2v_model = SkipGramModel(1228,300)"
      ],
      "execution_count": 11,
      "outputs": []
    },
    {
      "cell_type": "code",
      "metadata": {
        "id": "TR2ySLx_uWT3"
      },
      "source": [
        "w2v_model = w2v_model.to(device)"
      ],
      "execution_count": 14,
      "outputs": []
    },
    {
      "cell_type": "code",
      "metadata": {
        "id": "Z1wzvPbFuWRi",
        "outputId": "2563354f-ab99-41fc-ab85-b5b2e1c5e2d5",
        "colab": {
          "base_uri": "https://localhost:8080/",
          "height": 0
        }
      },
      "source": [
        "%%time\n",
        "# Обучим\n",
        "losses = train(w2v_model,10)"
      ],
      "execution_count": 15,
      "outputs": [
        {
          "output_type": "stream",
          "text": [
            "\r  0%|          | 0/857 [00:00<?, ?it/s]"
          ],
          "name": "stderr"
        },
        {
          "output_type": "stream",
          "text": [
            "\n",
            "\n",
            "\n",
            "Iteration: 1\n"
          ],
          "name": "stdout"
        },
        {
          "output_type": "stream",
          "text": [
            "100%|██████████| 857/857 [20:44<00:00,  1.45s/it]\n",
            "  0%|          | 0/857 [00:00<?, ?it/s]"
          ],
          "name": "stderr"
        },
        {
          "output_type": "stream",
          "text": [
            "\n",
            "\n",
            "\n",
            "Iteration: 2\n"
          ],
          "name": "stdout"
        },
        {
          "output_type": "stream",
          "text": [
            "100%|██████████| 857/857 [20:18<00:00,  1.42s/it]\n",
            "  0%|          | 0/857 [00:00<?, ?it/s]"
          ],
          "name": "stderr"
        },
        {
          "output_type": "stream",
          "text": [
            "\n",
            "\n",
            "\n",
            "Iteration: 3\n"
          ],
          "name": "stdout"
        },
        {
          "output_type": "stream",
          "text": [
            "100%|██████████| 857/857 [20:19<00:00,  1.42s/it]\n",
            "  0%|          | 0/857 [00:00<?, ?it/s]"
          ],
          "name": "stderr"
        },
        {
          "output_type": "stream",
          "text": [
            "\n",
            "\n",
            "\n",
            "Iteration: 4\n"
          ],
          "name": "stdout"
        },
        {
          "output_type": "stream",
          "text": [
            "100%|██████████| 857/857 [20:11<00:00,  1.41s/it]\n",
            "  0%|          | 0/857 [00:00<?, ?it/s]"
          ],
          "name": "stderr"
        },
        {
          "output_type": "stream",
          "text": [
            "\n",
            "\n",
            "\n",
            "Iteration: 5\n"
          ],
          "name": "stdout"
        },
        {
          "output_type": "stream",
          "text": [
            "100%|██████████| 857/857 [19:51<00:00,  1.39s/it]\n",
            "  0%|          | 0/857 [00:00<?, ?it/s]"
          ],
          "name": "stderr"
        },
        {
          "output_type": "stream",
          "text": [
            "\n",
            "\n",
            "\n",
            "Iteration: 6\n"
          ],
          "name": "stdout"
        },
        {
          "output_type": "stream",
          "text": [
            "100%|██████████| 857/857 [20:35<00:00,  1.44s/it]\n",
            "  0%|          | 0/857 [00:00<?, ?it/s]"
          ],
          "name": "stderr"
        },
        {
          "output_type": "stream",
          "text": [
            "\n",
            "\n",
            "\n",
            "Iteration: 7\n"
          ],
          "name": "stdout"
        },
        {
          "output_type": "stream",
          "text": [
            "100%|██████████| 857/857 [20:44<00:00,  1.45s/it]\n",
            "  0%|          | 0/857 [00:00<?, ?it/s]"
          ],
          "name": "stderr"
        },
        {
          "output_type": "stream",
          "text": [
            "\n",
            "\n",
            "\n",
            "Iteration: 8\n"
          ],
          "name": "stdout"
        },
        {
          "output_type": "stream",
          "text": [
            "100%|██████████| 857/857 [20:02<00:00,  1.40s/it]\n",
            "  0%|          | 0/857 [00:00<?, ?it/s]"
          ],
          "name": "stderr"
        },
        {
          "output_type": "stream",
          "text": [
            "\n",
            "\n",
            "\n",
            "Iteration: 9\n"
          ],
          "name": "stdout"
        },
        {
          "output_type": "stream",
          "text": [
            "100%|██████████| 857/857 [20:05<00:00,  1.41s/it]\n",
            "  0%|          | 0/857 [00:00<?, ?it/s]"
          ],
          "name": "stderr"
        },
        {
          "output_type": "stream",
          "text": [
            "\n",
            "\n",
            "\n",
            "Iteration: 10\n"
          ],
          "name": "stdout"
        },
        {
          "output_type": "stream",
          "text": [
            "100%|██████████| 857/857 [20:33<00:00,  1.44s/it]"
          ],
          "name": "stderr"
        },
        {
          "output_type": "stream",
          "text": [
            "CPU times: user 3h 22min 7s, sys: 11min 11s, total: 3h 33min 19s\n",
            "Wall time: 3h 23min 26s\n"
          ],
          "name": "stdout"
        },
        {
          "output_type": "stream",
          "text": [
            "\n"
          ],
          "name": "stderr"
        }
      ]
    },
    {
      "cell_type": "code",
      "metadata": {
        "id": "lxrMwvo_x5D1"
      },
      "source": [
        "# Backup\n",
        "with open('/content/drive/My Drive/Lenta/backups/loss.pkl', 'wb') as f:\n",
        "  pickle.dump(losses, f, pickle.HIGHEST_PROTOCOL)"
      ],
      "execution_count": 18,
      "outputs": []
    },
    {
      "cell_type": "code",
      "metadata": {
        "id": "cjnCKYk10avM",
        "outputId": "fe3ff13d-c1b4-4d06-b874-516fea7a0a6c",
        "colab": {
          "base_uri": "https://localhost:8080/",
          "height": 285
        }
      },
      "source": [
        "plt.scatter(range(len(losses)), losses)"
      ],
      "execution_count": 16,
      "outputs": [
        {
          "output_type": "execute_result",
          "data": {
            "text/plain": [
              "<matplotlib.collections.PathCollection at 0x7fb88a1082e8>"
            ]
          },
          "metadata": {
            "tags": []
          },
          "execution_count": 16
        },
        {
          "output_type": "display_data",
          "data": {
            "image/png": "[encoded data removed]",
            "text/plain": [
              "<Figure size 432x288 with 1 Axes>"
            ]
          },
          "metadata": {
            "tags": [],
            "needs_background": "light"
          }
        }
      ]
    },
    {
      "cell_type": "code",
      "metadata": {
        "id": "K9zN56lKiITb"
      },
      "source": [
        "torch.save(w2v_model.state_dict(), '/content/drive/My Drive/Lenta/models/w2v.pt')"
      ],
      "execution_count": 17,
      "outputs": []
    },
    {
      "cell_type": "markdown",
      "metadata": {
        "id": "sfSmw-4imp7Y"
      },
      "source": [
        "Посмотрим на результаты"
      ]
    },
    {
      "cell_type": "code",
      "metadata": {
        "id": "MW-jFhF8ePEn"
      },
      "source": [
        "def most_similar(word, top_k=8):\n",
        "        index = word2idx[word]\n",
        "        index = torch.tensor(index, dtype=torch.long).unsqueeze(0)\n",
        "        emb = w2v_model.u_embeddings(index)\n",
        "        sim = torch.mm(emb, w2v_model.u_embeddings.weight.transpose(0, 1))\n",
        "        nearest = (-sim[0]).sort()[1][1: top_k + 1]\n",
        "        top_list = []\n",
        "        for k in range(top_k):\n",
        "            close_word = idx2word[nearest[k].item()]\n",
        "            top_list.append(close_word)\n",
        "        return top_list"
      ],
      "execution_count": 29,
      "outputs": []
    },
    {
      "cell_type": "code",
      "metadata": {
        "id": "ldT9S2kUm5TH",
        "outputId": "618380d4-524b-414b-98b2-1f8bf24f28d7",
        "colab": {
          "base_uri": "https://localhost:8080/",
          "height": 0
        }
      },
      "source": [
        "w2v_model.cpu()"
      ],
      "execution_count": 31,
      "outputs": [
        {
          "output_type": "execute_result",
          "data": {
            "text/plain": [
              "SkipGramModel(\n",
              "  (u_embeddings): Embedding(1228, 300, sparse=True)\n",
              "  (v_embeddings): Embedding(1228, 300, sparse=True)\n",
              ")"
            ]
          },
          "metadata": {
            "tags": []
          },
          "execution_count": 31
        }
      ]
    },
    {
      "cell_type": "code",
      "metadata": {
        "id": "tyL2T6Pfe2nt",
        "outputId": "070afdfe-2961-423a-c4b4-2ac0af5a75f9",
        "colab": {
          "base_uri": "https://localhost:8080/",
          "height": 0
        }
      },
      "source": [
        "most_similar('a0101291313a')"
      ],
      "execution_count": 32,
      "outputs": [
        {
          "output_type": "execute_result",
          "data": {
            "text/plain": [
              "['a0082200204a',\n",
              " 'a0083270931a',\n",
              " 'a0102451325a',\n",
              " 'a0471841858a',\n",
              " 'a0160711125a',\n",
              " 'a0063730976a',\n",
              " 'a0371980764a',\n",
              " 'a0250291128a']"
            ]
          },
          "metadata": {
            "tags": []
          },
          "execution_count": 32
        }
      ]
    },
    {
      "cell_type": "markdown",
      "metadata": {
        "id": "wGsrLeSlnF3d"
      },
      "source": [
        "# Глава третья.\n",
        "У нас получились две модели, осталось собрать их в одно целое"
      ]
    },
    {
      "cell_type": "code",
      "metadata": {
        "id": "zgfhTTh3nLLN"
      },
      "source": [
        "import numpy as np\n",
        "import pandas as pd\n",
        "import torch\n",
        "import pickle\n",
        "from torch import nn\n",
        "from sklearn.utils import shuffle"
      ],
      "execution_count": 12,
      "outputs": []
    },
    {
      "cell_type": "markdown",
      "metadata": {
        "id": "JumE_PeiuQ7o"
      },
      "source": [
        "Создадим данные для теста"
      ]
    },
    {
      "cell_type": "code",
      "metadata": {
        "id": "AqufL3L-uO0f"
      },
      "source": [
        "data_table = pd.read_csv('/content/drive/My Drive/Lenta/backups/final_table.csv')\n",
        "data_table = shuffle(data_table)\n",
        "data_table = shuffle(data_table)\n",
        "data = data_table[data_table.category ==1][1:6]\n",
        "data = pd.concat([data,data_table[data_table.category ==0][:5]])\n",
        "# Backup\n",
        "data.to_csv('/content/drive/My Drive/Lenta/backups/data_test.csv',index=False)"
      ],
      "execution_count": 3,
      "outputs": []
    },
    {
      "cell_type": "code",
      "metadata": {
        "id": "yF_yMMA_uTHR"
      },
      "source": [
        "# Load\n",
        "data = pd.read_csv('/content/drive/My Drive/Lenta/backups/data_test.csv')"
      ],
      "execution_count": 6,
      "outputs": []
    },
    {
      "cell_type": "code",
      "metadata": {
        "id": "1t5cJzVku9MN",
        "outputId": "2637a156-ddf6-4eaa-d173-b3024e9df524",
        "colab": {
          "base_uri": "https://localhost:8080/",
          "height": 359
        }
      },
      "source": [
        "data"
      ],
      "execution_count": 7,
      "outputs": [
        {
          "output_type": "execute_result",
          "data": {
            "text/html": [
              "<div>\n",
              "<style scoped>\n",
              "    .dataframe tbody tr th:only-of-type {\n",
              "        vertical-align: middle;\n",
              "    }\n",
              "\n",
              "    .dataframe tbody tr th {\n",
              "        vertical-align: top;\n",
              "    }\n",
              "\n",
              "    .dataframe thead th {\n",
              "        text-align: right;\n",
              "    }\n",
              "</style>\n",
              "<table border=\"1\" class=\"dataframe\">\n",
              "  <thead>\n",
              "    <tr style=\"text-align: right;\">\n",
              "      <th></th>\n",
              "      <th>material</th>\n",
              "      <th>hier_level_1</th>\n",
              "      <th>hier_level_2</th>\n",
              "      <th>hier_level_3</th>\n",
              "      <th>hier_level_4</th>\n",
              "      <th>vendor</th>\n",
              "      <th>is_alco</th>\n",
              "      <th>category</th>\n",
              "      <th>sales_count</th>\n",
              "      <th>sales_sum</th>\n",
              "    </tr>\n",
              "  </thead>\n",
              "  <tbody>\n",
              "    <tr>\n",
              "      <th>0</th>\n",
              "      <td>aae82b282f6d372a6c90970b05cd9d11</td>\n",
              "      <td>0</td>\n",
              "      <td>35</td>\n",
              "      <td>17</td>\n",
              "      <td>104</td>\n",
              "      <td>3191</td>\n",
              "      <td>0</td>\n",
              "      <td>1</td>\n",
              "      <td>6423.000</td>\n",
              "      <td>82.803243</td>\n",
              "    </tr>\n",
              "    <tr>\n",
              "      <th>1</th>\n",
              "      <td>b6dec6e25b6b0556bac1dde55b6322e9</td>\n",
              "      <td>0</td>\n",
              "      <td>8</td>\n",
              "      <td>333</td>\n",
              "      <td>1273</td>\n",
              "      <td>407</td>\n",
              "      <td>0</td>\n",
              "      <td>1</td>\n",
              "      <td>5330.000</td>\n",
              "      <td>15.765158</td>\n",
              "    </tr>\n",
              "    <tr>\n",
              "      <th>2</th>\n",
              "      <td>d9b48f1f15e4a6a87b29ad0441b81332</td>\n",
              "      <td>0</td>\n",
              "      <td>10</td>\n",
              "      <td>129</td>\n",
              "      <td>1313</td>\n",
              "      <td>2640</td>\n",
              "      <td>0</td>\n",
              "      <td>1</td>\n",
              "      <td>2265.000</td>\n",
              "      <td>193.326998</td>\n",
              "    </tr>\n",
              "    <tr>\n",
              "      <th>3</th>\n",
              "      <td>7f77239687e6662acf818be678f17868</td>\n",
              "      <td>1</td>\n",
              "      <td>51</td>\n",
              "      <td>61</td>\n",
              "      <td>575</td>\n",
              "      <td>257</td>\n",
              "      <td>0</td>\n",
              "      <td>1</td>\n",
              "      <td>1402.000</td>\n",
              "      <td>13.187361</td>\n",
              "    </tr>\n",
              "    <tr>\n",
              "      <th>4</th>\n",
              "      <td>c33f232dcbbfaca29390e7ffb7c3602a</td>\n",
              "      <td>1</td>\n",
              "      <td>3</td>\n",
              "      <td>174</td>\n",
              "      <td>1294</td>\n",
              "      <td>2217</td>\n",
              "      <td>0</td>\n",
              "      <td>1</td>\n",
              "      <td>14.000</td>\n",
              "      <td>175.267143</td>\n",
              "    </tr>\n",
              "    <tr>\n",
              "      <th>5</th>\n",
              "      <td>1362d54095decbb0831f0e2b7309ee3d</td>\n",
              "      <td>0</td>\n",
              "      <td>10</td>\n",
              "      <td>129</td>\n",
              "      <td>1313</td>\n",
              "      <td>2866</td>\n",
              "      <td>0</td>\n",
              "      <td>0</td>\n",
              "      <td>3.919</td>\n",
              "      <td>253.886195</td>\n",
              "    </tr>\n",
              "    <tr>\n",
              "      <th>6</th>\n",
              "      <td>3408ff7ea34c72b2f21d1e20349b3112</td>\n",
              "      <td>0</td>\n",
              "      <td>10</td>\n",
              "      <td>241</td>\n",
              "      <td>822</td>\n",
              "      <td>3140</td>\n",
              "      <td>0</td>\n",
              "      <td>0</td>\n",
              "      <td>3.000</td>\n",
              "      <td>299.973333</td>\n",
              "    </tr>\n",
              "    <tr>\n",
              "      <th>7</th>\n",
              "      <td>aa015fa918dde2e11b1f8428b348053b</td>\n",
              "      <td>1</td>\n",
              "      <td>30</td>\n",
              "      <td>57</td>\n",
              "      <td>646</td>\n",
              "      <td>3063</td>\n",
              "      <td>0</td>\n",
              "      <td>0</td>\n",
              "      <td>40.000</td>\n",
              "      <td>348.239250</td>\n",
              "    </tr>\n",
              "    <tr>\n",
              "      <th>8</th>\n",
              "      <td>ee7633cde6b02678bf19ae34e106d109</td>\n",
              "      <td>1</td>\n",
              "      <td>34</td>\n",
              "      <td>389</td>\n",
              "      <td>1378</td>\n",
              "      <td>2851</td>\n",
              "      <td>0</td>\n",
              "      <td>0</td>\n",
              "      <td>11.000</td>\n",
              "      <td>749.361818</td>\n",
              "    </tr>\n",
              "    <tr>\n",
              "      <th>9</th>\n",
              "      <td>3ddfafc81cc845600fab3555488336ea</td>\n",
              "      <td>1</td>\n",
              "      <td>42</td>\n",
              "      <td>215</td>\n",
              "      <td>918</td>\n",
              "      <td>3792</td>\n",
              "      <td>0</td>\n",
              "      <td>0</td>\n",
              "      <td>25.000</td>\n",
              "      <td>58.446000</td>\n",
              "    </tr>\n",
              "  </tbody>\n",
              "</table>\n",
              "</div>"
            ],
            "text/plain": [
              "                           material  hier_level_1  ...  sales_count   sales_sum\n",
              "0  aae82b282f6d372a6c90970b05cd9d11             0  ...     6423.000   82.803243\n",
              "1  b6dec6e25b6b0556bac1dde55b6322e9             0  ...     5330.000   15.765158\n",
              "2  d9b48f1f15e4a6a87b29ad0441b81332             0  ...     2265.000  193.326998\n",
              "3  7f77239687e6662acf818be678f17868             1  ...     1402.000   13.187361\n",
              "4  c33f232dcbbfaca29390e7ffb7c3602a             1  ...       14.000  175.267143\n",
              "5  1362d54095decbb0831f0e2b7309ee3d             0  ...        3.919  253.886195\n",
              "6  3408ff7ea34c72b2f21d1e20349b3112             0  ...        3.000  299.973333\n",
              "7  aa015fa918dde2e11b1f8428b348053b             1  ...       40.000  348.239250\n",
              "8  ee7633cde6b02678bf19ae34e106d109             1  ...       11.000  749.361818\n",
              "9  3ddfafc81cc845600fab3555488336ea             1  ...       25.000   58.446000\n",
              "\n",
              "[10 rows x 10 columns]"
            ]
          },
          "metadata": {
            "tags": []
          },
          "execution_count": 7
        }
      ]
    },
    {
      "cell_type": "code",
      "metadata": {
        "id": "1l_tApMduUa0"
      },
      "source": [
        "device = \"cuda\" if torch.cuda.is_available() else \"cpu\""
      ],
      "execution_count": 8,
      "outputs": []
    },
    {
      "cell_type": "code",
      "metadata": {
        "id": "Vz66Sea7uVp-"
      },
      "source": [
        "# Подготовим данные для использованияв модели №1\n",
        "feature_columns = ['hier_level_1', 'hier_level_2', 'hier_level_3', 'hier_level_4', 'vendor', 'is_alco', 'sales_count', 'sales_sum']\n",
        "test_data = data[feature_columns]\n",
        "if sum(test_data['is_alco']) == 0:\n",
        "  test_data = (test_data - test_data.mean()) / test_data.std()\n",
        "  test_data['is_alco'] = 0\n",
        "\n",
        "elif sum(test_data['is_alco']) != 0:\n",
        "  test_data = (test_data - test_data.mean()) / test_data.std()\n",
        "\n",
        "test_data = torch.FloatTensor(test_data.values).to(device)"
      ],
      "execution_count": 9,
      "outputs": []
    },
    {
      "cell_type": "code",
      "metadata": {
        "id": "GJPoAaapvJC8"
      },
      "source": [
        "# Объявим модель\n",
        "torch.manual_seed(42) \n",
        "model = nn.Sequential(\n",
        "    torch.nn.Linear(test_data.shape[1], 150),\n",
        "    torch.nn.ReLU(), \n",
        "    torch.nn.Dropout(p=0.5), \n",
        "    torch.nn.BatchNorm1d(150), \n",
        "    torch.nn.Linear(150, 150), \n",
        "    torch.nn.ReLU(),\n",
        "    torch.nn.Dropout(p=0.5),\n",
        "    torch.nn.BatchNorm1d(150),\n",
        "    torch.nn.Linear(150, 150), \n",
        "    torch.nn.ReLU(),\n",
        "    torch.nn.Dropout(p=0.5),\n",
        "    torch.nn.BatchNorm1d(150),\n",
        "    torch.nn.Linear(150,2)\n",
        ")\n",
        "binary_model = model.to(device) \n",
        "loss_fn = torch.nn.BCEWithLogitsLoss()\n",
        "optimizer = torch.optim.Adam(model.parameters(),lr=1e-2)"
      ],
      "execution_count": 15,
      "outputs": []
    },
    {
      "cell_type": "code",
      "metadata": {
        "id": "yQE4HI7wuXMh",
        "outputId": "7590a21f-ee58-4f7c-81eb-535fe2127cef",
        "colab": {
          "base_uri": "https://localhost:8080/",
          "height": 0
        }
      },
      "source": [
        "# Загрузим веса\n",
        "binary_model.load_state_dict(torch.load('/content/drive/My Drive/Lenta/models/binary_model.pt'))"
      ],
      "execution_count": 16,
      "outputs": [
        {
          "output_type": "execute_result",
          "data": {
            "text/plain": [
              "<All keys matched successfully>"
            ]
          },
          "metadata": {
            "tags": []
          },
          "execution_count": 16
        }
      ]
    },
    {
      "cell_type": "code",
      "metadata": {
        "id": "igBlSHuhuadS",
        "outputId": "e5b6682d-d391-4720-961c-b508359e03b4",
        "colab": {
          "base_uri": "https://localhost:8080/",
          "height": 0
        }
      },
      "source": [
        "binary_model.eval()"
      ],
      "execution_count": 17,
      "outputs": [
        {
          "output_type": "execute_result",
          "data": {
            "text/plain": [
              "Sequential(\n",
              "  (0): Linear(in_features=8, out_features=150, bias=True)\n",
              "  (1): ReLU()\n",
              "  (2): Dropout(p=0.5, inplace=False)\n",
              "  (3): BatchNorm1d(150, eps=1e-05, momentum=0.1, affine=True, track_running_stats=True)\n",
              "  (4): Linear(in_features=150, out_features=150, bias=True)\n",
              "  (5): ReLU()\n",
              "  (6): Dropout(p=0.5, inplace=False)\n",
              "  (7): BatchNorm1d(150, eps=1e-05, momentum=0.1, affine=True, track_running_stats=True)\n",
              "  (8): Linear(in_features=150, out_features=150, bias=True)\n",
              "  (9): ReLU()\n",
              "  (10): Dropout(p=0.5, inplace=False)\n",
              "  (11): BatchNorm1d(150, eps=1e-05, momentum=0.1, affine=True, track_running_stats=True)\n",
              "  (12): Linear(in_features=150, out_features=2, bias=True)\n",
              ")"
            ]
          },
          "metadata": {
            "tags": []
          },
          "execution_count": 17
        }
      ]
    },
    {
      "cell_type": "code",
      "metadata": {
        "id": "2Z6JZa57vqSF"
      },
      "source": [
        "# Сделаем предсказания\n",
        "x = torch.sigmoid(binary_model(test_data).detach())\n",
        "out_data = data.copy()\n",
        "for i, line in enumerate(x):\n",
        "  if line[0] < 1:\n",
        "    out_data['category'][i] = 1\n",
        "  elif line[0] == 1:\n",
        "    out_data['category'][i] = 0"
      ],
      "execution_count": null,
      "outputs": []
    },
    {
      "cell_type": "code",
      "metadata": {
        "id": "ZylTuWYqvxup",
        "outputId": "4d811ec5-5fa1-4af0-f31e-0cfced3b3b5d",
        "colab": {
          "base_uri": "https://localhost:8080/",
          "height": 173
        }
      },
      "source": [
        "# Модель обозначила 4 из 5х товаров.\n",
        "out_data = out_data[out_data.category == 1]\n",
        "out_data"
      ],
      "execution_count": 19,
      "outputs": [
        {
          "output_type": "execute_result",
          "data": {
            "text/html": [
              "<div>\n",
              "<style scoped>\n",
              "    .dataframe tbody tr th:only-of-type {\n",
              "        vertical-align: middle;\n",
              "    }\n",
              "\n",
              "    .dataframe tbody tr th {\n",
              "        vertical-align: top;\n",
              "    }\n",
              "\n",
              "    .dataframe thead th {\n",
              "        text-align: right;\n",
              "    }\n",
              "</style>\n",
              "<table border=\"1\" class=\"dataframe\">\n",
              "  <thead>\n",
              "    <tr style=\"text-align: right;\">\n",
              "      <th></th>\n",
              "      <th>material</th>\n",
              "      <th>hier_level_1</th>\n",
              "      <th>hier_level_2</th>\n",
              "      <th>hier_level_3</th>\n",
              "      <th>hier_level_4</th>\n",
              "      <th>vendor</th>\n",
              "      <th>is_alco</th>\n",
              "      <th>category</th>\n",
              "      <th>sales_count</th>\n",
              "      <th>sales_sum</th>\n",
              "    </tr>\n",
              "  </thead>\n",
              "  <tbody>\n",
              "    <tr>\n",
              "      <th>0</th>\n",
              "      <td>aae82b282f6d372a6c90970b05cd9d11</td>\n",
              "      <td>0</td>\n",
              "      <td>35</td>\n",
              "      <td>17</td>\n",
              "      <td>104</td>\n",
              "      <td>3191</td>\n",
              "      <td>0</td>\n",
              "      <td>1</td>\n",
              "      <td>6423.0</td>\n",
              "      <td>82.803243</td>\n",
              "    </tr>\n",
              "    <tr>\n",
              "      <th>1</th>\n",
              "      <td>b6dec6e25b6b0556bac1dde55b6322e9</td>\n",
              "      <td>0</td>\n",
              "      <td>8</td>\n",
              "      <td>333</td>\n",
              "      <td>1273</td>\n",
              "      <td>407</td>\n",
              "      <td>0</td>\n",
              "      <td>1</td>\n",
              "      <td>5330.0</td>\n",
              "      <td>15.765158</td>\n",
              "    </tr>\n",
              "    <tr>\n",
              "      <th>2</th>\n",
              "      <td>d9b48f1f15e4a6a87b29ad0441b81332</td>\n",
              "      <td>0</td>\n",
              "      <td>10</td>\n",
              "      <td>129</td>\n",
              "      <td>1313</td>\n",
              "      <td>2640</td>\n",
              "      <td>0</td>\n",
              "      <td>1</td>\n",
              "      <td>2265.0</td>\n",
              "      <td>193.326998</td>\n",
              "    </tr>\n",
              "    <tr>\n",
              "      <th>3</th>\n",
              "      <td>7f77239687e6662acf818be678f17868</td>\n",
              "      <td>1</td>\n",
              "      <td>51</td>\n",
              "      <td>61</td>\n",
              "      <td>575</td>\n",
              "      <td>257</td>\n",
              "      <td>0</td>\n",
              "      <td>1</td>\n",
              "      <td>1402.0</td>\n",
              "      <td>13.187361</td>\n",
              "    </tr>\n",
              "  </tbody>\n",
              "</table>\n",
              "</div>"
            ],
            "text/plain": [
              "                           material  hier_level_1  ...  sales_count   sales_sum\n",
              "0  aae82b282f6d372a6c90970b05cd9d11             0  ...       6423.0   82.803243\n",
              "1  b6dec6e25b6b0556bac1dde55b6322e9             0  ...       5330.0   15.765158\n",
              "2  d9b48f1f15e4a6a87b29ad0441b81332             0  ...       2265.0  193.326998\n",
              "3  7f77239687e6662acf818be678f17868             1  ...       1402.0   13.187361\n",
              "\n",
              "[4 rows x 10 columns]"
            ]
          },
          "metadata": {
            "tags": []
          },
          "execution_count": 19
        }
      ]
    },
    {
      "cell_type": "markdown",
      "metadata": {
        "id": "en5S_SzRv3Dp"
      },
      "source": [
        "Подготовим данные дляиспользования во второй модели"
      ]
    },
    {
      "cell_type": "code",
      "metadata": {
        "id": "55o8uw7ev0J3"
      },
      "source": [
        "# Переведем столбцы категорий в тип строки\n",
        "out_data['hier_level_1'] = out_data['hier_level_1'].apply(str)\n",
        "out_data['hier_level_2'] = out_data['hier_level_2'].apply(str)\n",
        "out_data['hier_level_3'] = out_data['hier_level_3'].apply(str)\n",
        "out_data['hier_level_4'] = out_data['hier_level_4'].apply(str)"
      ],
      "execution_count": 20,
      "outputs": []
    },
    {
      "cell_type": "code",
      "metadata": {
        "id": "J28gOPXcv8b7"
      },
      "source": [
        "# Сделаем кодировку категорий товаров в \"словесную\" форму\n",
        "for i in range(len(out_data['hier_level_4'])):\n",
        "  if len(out_data['hier_level_4'][i]) == 1:\n",
        "    out_data['hier_level_4'][i] = '000' + out_data['hier_level_4'][i]\n",
        "  if len(out_data['hier_level_4'][i]) == 2:\n",
        "    out_data['hier_level_4'][i] = '00' + out_data['hier_level_4'][i]\n",
        "  if len(out_data['hier_level_4'][i]) == 3:\n",
        "    out_data['hier_level_4'][i] = '0' + out_data['hier_level_4'][i] \n",
        "\n",
        "for i in range(len(out_data['hier_level_3'])):\n",
        "  if len(out_data['hier_level_3'][i]) == 2:\n",
        "    out_data['hier_level_3'][i] = '0' + out_data['hier_level_3'][i]\n",
        "  if len(out_data['hier_level_3'][i]) == 1:\n",
        "    out_data['hier_level_3'][i] = '00' + out_data['hier_level_3'][i] \n",
        "\n",
        "for i in range(len(out_data['hier_level_2'])):\n",
        "  if len(out_data['hier_level_2'][i]) == 1:\n",
        "    out_data['hier_level_2'][i] = '0' + out_data['hier_level_2'][i]\n",
        "\n",
        "out_data['code'] = 'a' + out_data['hier_level_1'] + out_data['hier_level_2'] + out_data['hier_level_3'] + out_data['hier_level_4'] + 'a'"
      ],
      "execution_count": null,
      "outputs": []
    },
    {
      "cell_type": "code",
      "metadata": {
        "id": "oUSK5xDLv_Je"
      },
      "source": [
        "# Добавим и объявим модель w2v\n",
        "class SkipGramModel(nn.Module):\n",
        "\n",
        "    def __init__(self, emb_size, emb_dimension):\n",
        "        super(SkipGramModel, self).__init__()\n",
        "        self.emb_size = emb_size\n",
        "        self.emb_dimension = emb_dimension\n",
        "        self.u_embeddings = nn.Embedding(emb_size, emb_dimension, sparse=True)\n",
        "        self.v_embeddings = nn.Embedding(emb_size, emb_dimension, sparse=True)\n",
        "\n",
        "    def forward(self, pos_u, pos_v, neg_v):\n",
        "        emb_u = self.u_embeddings(pos_u)\n",
        "        emb_v = self.v_embeddings(pos_v)\n",
        "        emb_neg_v = self.v_embeddings(neg_v)\n",
        "\n",
        "        score = torch.sum(torch.mul(emb_u, emb_v), dim=1)\n",
        "        score = torch.clamp(score, max=10, min=-10)\n",
        "        score = -torch.nn.functional.logsigmoid(score)\n",
        "\n",
        "        neg_score = torch.bmm(emb_neg_v, emb_u.unsqueeze(2)).squeeze()\n",
        "        neg_score = torch.clamp(neg_score, max=10, min=-10)\n",
        "        neg_score = -torch.sum(torch.nn.functional.logsigmoid(-neg_score), dim=1)\n",
        "\n",
        "        return torch.mean(score + neg_score)"
      ],
      "execution_count": 22,
      "outputs": []
    },
    {
      "cell_type": "code",
      "metadata": {
        "id": "u766KmJswBbF",
        "outputId": "dcc0694b-c1c4-4357-8f4a-6339119f7a70",
        "colab": {
          "base_uri": "https://localhost:8080/",
          "height": 0
        }
      },
      "source": [
        "w2v = SkipGramModel(1228,300)\n",
        "w2v.load_state_dict(torch.load('/content/drive/My Drive/Lenta/models/w2v.pt'))"
      ],
      "execution_count": 23,
      "outputs": [
        {
          "output_type": "execute_result",
          "data": {
            "text/plain": [
              "<All keys matched successfully>"
            ]
          },
          "metadata": {
            "tags": []
          },
          "execution_count": 23
        }
      ]
    },
    {
      "cell_type": "code",
      "metadata": {
        "id": "bz__x-I4wCxY"
      },
      "source": [
        "w2v = w2v.eval().cpu()"
      ],
      "execution_count": 24,
      "outputs": []
    },
    {
      "cell_type": "code",
      "metadata": {
        "id": "ysMENH6owFzu"
      },
      "source": [
        "# Загрузим словари\n",
        "import pickle\n",
        "# Load\n",
        "with open('/content/drive/My Drive/Lenta/backups/w2i.pkl', 'rb') as f:\n",
        "  word2idx = pickle.load(f)\n",
        "\n",
        "# Load\n",
        "with open('/content/drive/My Drive/Lenta/backups/i2w.pkl', 'rb') as f:\n",
        "  idx2word = pickle.load(f)"
      ],
      "execution_count": 25,
      "outputs": []
    },
    {
      "cell_type": "code",
      "metadata": {
        "id": "Ppkr0h6pwH92"
      },
      "source": [
        "# функция для поиска соседей\n",
        "def most_similar(word, top_k=8):\n",
        "        index = word2idx[word]\n",
        "        index = torch.tensor(index, dtype=torch.long).unsqueeze(0)\n",
        "        emb = w2v.u_embeddings(index)\n",
        "        sim = torch.mm(emb, w2v.u_embeddings.weight.transpose(0, 1))\n",
        "        nearest = (-sim[0]).sort()[1][1: top_k + 1]\n",
        "        top_list = []\n",
        "        for k in range(top_k):\n",
        "            close_word = idx2word[nearest[k].item()]\n",
        "            top_list.append(close_word)\n",
        "        return top_list"
      ],
      "execution_count": 26,
      "outputs": []
    },
    {
      "cell_type": "code",
      "metadata": {
        "id": "wlIjf56OwLX5"
      },
      "source": [
        "# загрузим ранее созданную табилцу, чтобы смотреть колличество покупок\n",
        "mat = pd.read_csv('/content/drive/My Drive/Lenta/backups/stack_tables_coded.csv')"
      ],
      "execution_count": 27,
      "outputs": []
    },
    {
      "cell_type": "code",
      "metadata": {
        "id": "jq2yUCU_wSjF"
      },
      "source": [
        "# Добавим столбцы к итоговой колонке\n",
        "out_data['subling_1']= None\n",
        "out_data['subling_2']= None\n",
        "out_data['subling_3']= None"
      ],
      "execution_count": 28,
      "outputs": []
    },
    {
      "cell_type": "code",
      "metadata": {
        "id": "9VD4S3XPwaaM"
      },
      "source": [
        "# Запишем функцию которая будет добовлять товары заменители\n",
        "\n",
        "\n",
        "for idx, line in enumerate(out_data['code']):\n",
        "  #print(idx)\n",
        "  similars = most_similar(line)\n",
        "  z=0\n",
        "  for i, simular in enumerate(similars):\n",
        "    if int(simular[1:2]) == int(line[1:2]):\n",
        "      if z == 0:\n",
        "        df = mat[(mat.hier_level_1 == int(simular[1:2])) & (mat.hier_level_2 == int(simular[2:4])) & (mat.hier_level_3 == int(simular[4:7])) & (mat.hier_level_4 == int(simular[7:11]))].sort_values('sales_count', ascending=False)[:1]\n",
        "        out_data['subling_1'][idx] = df['material'].item()\n",
        "        z+=1\n",
        "      elif z == 1:\n",
        "        df = mat[(mat.hier_level_1 == int(simular[1:2])) & (mat.hier_level_2 == int(simular[2:4])) & (mat.hier_level_3 == int(simular[4:7])) & (mat.hier_level_4 == int(simular[7:11]))].sort_values('sales_count', ascending=False)[:1]\n",
        "        out_data['subling_2'][idx] = df['material'].item()\n",
        "        z+=1\n",
        "      elif z == 2:\n",
        "        df = mat[(mat.hier_level_1 == int(simular[1:2])) & (mat.hier_level_2 == int(simular[2:4])) & (mat.hier_level_3 == int(simular[4:7])) & (mat.hier_level_4 == int(simular[7:11]))].sort_values('sales_count', ascending=False)[:1]\n",
        "        out_data['subling_3'][idx] = df['material'].item()\n",
        "        z+=1\n"
      ],
      "execution_count": null,
      "outputs": []
    },
    {
      "cell_type": "code",
      "metadata": {
        "id": "HR0Lz-MKxGd_"
      },
      "source": [
        "out_data.drop(['hier_level_1'],axis='columns', inplace=True)\n",
        "out_data.drop(['hier_level_2'],axis='columns', inplace=True)\n",
        "out_data.drop(['hier_level_3'],axis='columns', inplace=True)\n",
        "out_data.drop(['hier_level_4'],axis='columns', inplace=True)\n",
        "out_data.drop(['vendor'],axis='columns', inplace=True)"
      ],
      "execution_count": null,
      "outputs": []
    },
    {
      "cell_type": "code",
      "metadata": {
        "id": "cxpRJ3PIxElH"
      },
      "source": [
        "out_data.drop(['is_alco'],axis='columns', inplace=True)\n",
        "out_data.drop(['category'],axis='columns', inplace=True)\n",
        "out_data.drop(['sales_count'],axis='columns', inplace=True)\n",
        "out_data.drop(['sales_sum'],axis='columns', inplace=True)\n",
        "out_data.drop(['code'],axis='columns', inplace=True)"
      ],
      "execution_count": 32,
      "outputs": []
    },
    {
      "cell_type": "code",
      "metadata": {
        "id": "Er3D5z1IwizY",
        "outputId": "ce0a7a50-df1d-42f7-a951-aefc75fa20f5",
        "colab": {
          "base_uri": "https://localhost:8080/",
          "height": 173
        }
      },
      "source": [
        "out_data"
      ],
      "execution_count": 33,
      "outputs": [
        {
          "output_type": "execute_result",
          "data": {
            "text/html": [
              "<div>\n",
              "<style scoped>\n",
              "    .dataframe tbody tr th:only-of-type {\n",
              "        vertical-align: middle;\n",
              "    }\n",
              "\n",
              "    .dataframe tbody tr th {\n",
              "        vertical-align: top;\n",
              "    }\n",
              "\n",
              "    .dataframe thead th {\n",
              "        text-align: right;\n",
              "    }\n",
              "</style>\n",
              "<table border=\"1\" class=\"dataframe\">\n",
              "  <thead>\n",
              "    <tr style=\"text-align: right;\">\n",
              "      <th></th>\n",
              "      <th>material</th>\n",
              "      <th>subling_1</th>\n",
              "      <th>subling_2</th>\n",
              "      <th>subling_3</th>\n",
              "    </tr>\n",
              "  </thead>\n",
              "  <tbody>\n",
              "    <tr>\n",
              "      <th>0</th>\n",
              "      <td>aae82b282f6d372a6c90970b05cd9d11</td>\n",
              "      <td>42898c9899c2753952a3d8b09d63fd0e</td>\n",
              "      <td>fcb725202de318d2cba0ae50ee3cc527</td>\n",
              "      <td>12dc217d78c3d79ef18c72d9e5f44436</td>\n",
              "    </tr>\n",
              "    <tr>\n",
              "      <th>1</th>\n",
              "      <td>b6dec6e25b6b0556bac1dde55b6322e9</td>\n",
              "      <td>1aa5e8f2ebc1a7a3e4ad35f636db5b79</td>\n",
              "      <td>cf77c564d5e25ba399bd232c90f38729</td>\n",
              "      <td>7897953d7cfcf423ae79b988e900211a</td>\n",
              "    </tr>\n",
              "    <tr>\n",
              "      <th>2</th>\n",
              "      <td>d9b48f1f15e4a6a87b29ad0441b81332</td>\n",
              "      <td>da0b812d15a9ffe6ff5fea1ae6053ac6</td>\n",
              "      <td>08947cc2c6c70caf3479b6ce8d9ad63c</td>\n",
              "      <td>df9cb53c7750e70ce75543fbd9dc31d4</td>\n",
              "    </tr>\n",
              "    <tr>\n",
              "      <th>3</th>\n",
              "      <td>7f77239687e6662acf818be678f17868</td>\n",
              "      <td>5141f9cf751c070f710b38ff9faa890e</td>\n",
              "      <td>ad74a0c50caa4132e82a9d3f226265ae</td>\n",
              "      <td>4d5be2d460be237368863cffd70bf148</td>\n",
              "    </tr>\n",
              "  </tbody>\n",
              "</table>\n",
              "</div>"
            ],
            "text/plain": [
              "                           material  ...                         subling_3\n",
              "0  aae82b282f6d372a6c90970b05cd9d11  ...  12dc217d78c3d79ef18c72d9e5f44436\n",
              "1  b6dec6e25b6b0556bac1dde55b6322e9  ...  7897953d7cfcf423ae79b988e900211a\n",
              "2  d9b48f1f15e4a6a87b29ad0441b81332  ...  df9cb53c7750e70ce75543fbd9dc31d4\n",
              "3  7f77239687e6662acf818be678f17868  ...  4d5be2d460be237368863cffd70bf148\n",
              "\n",
              "[4 rows x 4 columns]"
            ]
          },
          "metadata": {
            "tags": []
          },
          "execution_count": 33
        }
      ]
    },
    {
      "cell_type": "code",
      "metadata": {
        "id": "akm9Ng_wwmQ4"
      },
      "source": [
        "out_data.to_csv('/content/drive/My Drive/Lenta/backups/out_data.csv',index=False)"
      ],
      "execution_count": 34,
      "outputs": []
    },
    {
      "cell_type": "markdown",
      "metadata": {
        "id": "WYZhhecLxXK9"
      },
      "source": [
        "# Выводы по работе\n",
        "\n",
        "\n",
        "1.   По первой главе:\n",
        "\n",
        "\n",
        "*   При подготовки данных для первой модели, данные сортировались по классам и не обращалось во внимание количество проданных товаров в классе к среднему количеству проданных товаров. Из-за этого 1 классом иногда маркируются товары, которые покупались совсем редко, что не логично. Так-же моделе сложно предсказывать такой товар( пример во главе 3, товар, имеющий маркер 1 категории и всего 14 продаж)\n",
        "*   Модель была обучена на годовом обороте товаров, из-за этого не учитывает сезонность товаров.\n",
        "\n",
        "\n",
        "\n",
        "2.   По второй главе:\n",
        "\n",
        "\n",
        "*   Применение модели word2vec для структуризации потребительского поведения действительно кажется хорошей идеей, как развитие направления, можно использовать данные о возрасте и пола покупателей при составлении различных эмбедингов\n",
        "*   Несмотря на, то что оценивать точность модели эмбедингов достаточно сложно + все данные захешированы. Полученная модель во второй главе, несмотря на небольшой лосс требует существенной доработки, к сожалению не успел заняться ее оптимизацией из-за большого времени обучения. Ради интереса воспользовался готовым API и обучил модель Gensim word2vec на этих же данных, ближайшие товары к искомому у такой модели в большинстве случаев имеют одинаковые первые три иерархических класса, что кажется более правильном при оценке качества таких моделей.\n",
        "\n",
        "\n",
        "\n",
        "---\n",
        "\n",
        "**Возможное развитие**\n",
        "\n",
        "\n",
        "Изначально планировал создать еще третью модель, которая бы предсказывала продажи товаров в следующем месяце, но к сожалению, не хватило времени. Работа 3 моделей в тандеме: предсказание продаж - поиск чрезвычайно важных товаров в предсказанных продажах - поиск товаров заменителей, видится неплохой реализацией для коммерции.\n",
        "\n",
        "\n",
        "\n"
      ]
    }
  ]
}